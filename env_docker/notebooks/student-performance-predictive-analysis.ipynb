{
 "cells": [
  {
   "cell_type": "markdown",
   "id": "91457707",
   "metadata": {
    "papermill": {
     "duration": 0.013072,
     "end_time": "2023-04-15T13:27:20.810338",
     "exception": false,
     "start_time": "2023-04-15T13:27:20.797266",
     "status": "completed"
    },
    "tags": []
   },
   "source": [
    "# <p style=\"background:navy;color:white;border :black solid;font-family:Comic Sans MS; font-size:150%;text-align:center;  border-radius: 20px 40px;\">Student Performance Predictive Analysis</p>"
   ]
  },
  {
   "cell_type": "markdown",
   "id": "fa6d3773",
   "metadata": {
    "execution": {
     "iopub.execute_input": "2022-11-01T15:30:44.782441Z",
     "iopub.status.busy": "2022-11-01T15:30:44.781978Z",
     "iopub.status.idle": "2022-11-01T15:30:45.745964Z",
     "shell.execute_reply": "2022-11-01T15:30:45.744833Z",
     "shell.execute_reply.started": "2022-11-01T15:30:44.782340Z"
    },
    "papermill": {
     "duration": 0.010747,
     "end_time": "2023-04-15T13:27:20.832504",
     "exception": false,
     "start_time": "2023-04-15T13:27:20.821757",
     "status": "completed"
    },
    "tags": []
   },
   "source": [
    "<center>\n",
    "<img src=\"https://images.unsplash.com/photo-1434030216411-0b793f4b4173?ixlib=rb-4.0.3&ixid=MnwxMjA3fDB8MHxzZWFyY2h8Mnx8c3R1ZGVudCUyMGxlYXJuaW5nfGVufDB8fDB8fA%3D%3D&auto=format&fit=crop&w=600&q=60\" width=600>\n",
    "</center>"
   ]
  },
  {
   "cell_type": "markdown",
   "id": "8d7d0e91",
   "metadata": {
    "papermill": {
     "duration": 0.011821,
     "end_time": "2023-04-15T13:27:20.855438",
     "exception": false,
     "start_time": "2023-04-15T13:27:20.843617",
     "status": "completed"
    },
    "tags": []
   },
   "source": [
    "# <p style=\"background:navy;color:white;border :black solid; font-family:Comic Sans MS; font-size:170%;text-align:center;  border-radius: 20px 40px;\">Importing Libraries & Loading the Data</p>"
   ]
  },
  {
   "cell_type": "code",
   "execution_count": 1,
   "id": "bc324c05",
   "metadata": {
    "execution": {
     "iopub.execute_input": "2023-04-15T13:27:20.881608Z",
     "iopub.status.busy": "2023-04-15T13:27:20.880732Z",
     "iopub.status.idle": "2023-04-15T13:27:34.592107Z",
     "shell.execute_reply": "2023-04-15T13:27:34.590474Z"
    },
    "papermill": {
     "duration": 13.727347,
     "end_time": "2023-04-15T13:27:34.594926",
     "exception": false,
     "start_time": "2023-04-15T13:27:20.867579",
     "status": "completed"
    },
    "tags": []
   },
   "outputs": [
    {
     "name": "stdout",
     "output_type": "stream",
     "text": [
      "Collecting lazypredict\r\n",
      "  Downloading lazypredict-0.2.12-py2.py3-none-any.whl (12 kB)\r\n",
      "Requirement already satisfied: click in /opt/conda/lib/python3.7/site-packages (from lazypredict) (8.0.4)\r\n",
      "Requirement already satisfied: pandas in /opt/conda/lib/python3.7/site-packages (from lazypredict) (1.3.5)\r\n",
      "Requirement already satisfied: tqdm in /opt/conda/lib/python3.7/site-packages (from lazypredict) (4.64.0)\r\n",
      "Requirement already satisfied: scikit-learn in /opt/conda/lib/python3.7/site-packages (from lazypredict) (1.0.2)\r\n",
      "Requirement already satisfied: lightgbm in /opt/conda/lib/python3.7/site-packages (from lazypredict) (3.3.2)\r\n",
      "Requirement already satisfied: joblib in /opt/conda/lib/python3.7/site-packages (from lazypredict) (1.0.1)\r\n",
      "Requirement already satisfied: xgboost in /opt/conda/lib/python3.7/site-packages (from lazypredict) (1.6.1)\r\n",
      "Requirement already satisfied: importlib-metadata in /opt/conda/lib/python3.7/site-packages (from click->lazypredict) (4.12.0)\r\n",
      "Requirement already satisfied: numpy in /opt/conda/lib/python3.7/site-packages (from lightgbm->lazypredict) (1.21.6)\r\n",
      "Requirement already satisfied: wheel in /opt/conda/lib/python3.7/site-packages (from lightgbm->lazypredict) (0.37.1)\r\n",
      "Requirement already satisfied: scipy in /opt/conda/lib/python3.7/site-packages (from lightgbm->lazypredict) (1.7.3)\r\n",
      "Requirement already satisfied: threadpoolctl>=2.0.0 in /opt/conda/lib/python3.7/site-packages (from scikit-learn->lazypredict) (3.1.0)\r\n",
      "Requirement already satisfied: python-dateutil>=2.7.3 in /opt/conda/lib/python3.7/site-packages (from pandas->lazypredict) (2.8.2)\r\n",
      "Requirement already satisfied: pytz>=2017.3 in /opt/conda/lib/python3.7/site-packages (from pandas->lazypredict) (2022.1)\r\n",
      "Requirement already satisfied: six>=1.5 in /opt/conda/lib/python3.7/site-packages (from python-dateutil>=2.7.3->pandas->lazypredict) (1.15.0)\r\n",
      "Requirement already satisfied: zipp>=0.5 in /opt/conda/lib/python3.7/site-packages (from importlib-metadata->click->lazypredict) (3.8.0)\r\n",
      "Requirement already satisfied: typing-extensions>=3.6.4 in /opt/conda/lib/python3.7/site-packages (from importlib-metadata->click->lazypredict) (4.3.0)\r\n",
      "Installing collected packages: lazypredict\r\n",
      "Successfully installed lazypredict-0.2.12\r\n",
      "\u001b[33mWARNING: Running pip as the 'root' user can result in broken permissions and conflicting behaviour with the system package manager. It is recommended to use a virtual environment instead: https://pip.pypa.io/warnings/venv\u001b[0m\u001b[33m\r\n",
      "\u001b[0m"
     ]
    },
    {
     "data": {
      "text/html": [
       "<style type='text/css'>\n",
       ".datatable table.frame { margin-bottom: 0; }\n",
       ".datatable table.frame thead { border-bottom: none; }\n",
       ".datatable table.frame tr.coltypes td {  color: #FFFFFF;  line-height: 6px;  padding: 0 0.5em;}\n",
       ".datatable .bool    { background: #DDDD99; }\n",
       ".datatable .object  { background: #565656; }\n",
       ".datatable .int     { background: #5D9E5D; }\n",
       ".datatable .float   { background: #4040CC; }\n",
       ".datatable .str     { background: #CC4040; }\n",
       ".datatable .time    { background: #40CC40; }\n",
       ".datatable .row_index {  background: var(--jp-border-color3);  border-right: 1px solid var(--jp-border-color0);  color: var(--jp-ui-font-color3);  font-size: 9px;}\n",
       ".datatable .frame tbody td { text-align: left; }\n",
       ".datatable .frame tr.coltypes .row_index {  background: var(--jp-border-color0);}\n",
       ".datatable th:nth-child(2) { padding-left: 12px; }\n",
       ".datatable .hellipsis {  color: var(--jp-cell-editor-border-color);}\n",
       ".datatable .vellipsis {  background: var(--jp-layout-color0);  color: var(--jp-cell-editor-border-color);}\n",
       ".datatable .na {  color: var(--jp-cell-editor-border-color);  font-size: 80%;}\n",
       ".datatable .sp {  opacity: 0.25;}\n",
       ".datatable .footer { font-size: 9px; }\n",
       ".datatable .frame_dimensions {  background: var(--jp-border-color3);  border-top: 1px solid var(--jp-border-color0);  color: var(--jp-ui-font-color3);  display: inline-block;  opacity: 0.6;  padding: 1px 10px 1px 5px;}\n",
       "</style>\n"
      ],
      "text/plain": [
       "<IPython.core.display.HTML object>"
      ]
     },
     "metadata": {},
     "output_type": "display_data"
    }
   ],
   "source": [
    "import numpy as np\n",
    "import pandas as pd\n",
    "import matplotlib.pyplot as plt\n",
    "import seaborn as sns\n",
    "from termcolor import colored\n",
    "!pip install lazypredict\n",
    "from lazypredict.Supervised import LazyClassifier, LazyRegressor"
   ]
  },
  {
   "cell_type": "code",
   "execution_count": 2,
   "id": "4e399449",
   "metadata": {
    "execution": {
     "iopub.execute_input": "2023-04-15T13:27:34.620583Z",
     "iopub.status.busy": "2023-04-15T13:27:34.620134Z",
     "iopub.status.idle": "2023-04-15T13:27:34.664518Z",
     "shell.execute_reply": "2023-04-15T13:27:34.663844Z"
    },
    "papermill": {
     "duration": 0.059365,
     "end_time": "2023-04-15T13:27:34.666264",
     "exception": false,
     "start_time": "2023-04-15T13:27:34.606899",
     "status": "completed"
    },
    "tags": []
   },
   "outputs": [
    {
     "data": {
      "text/html": [
       "<div>\n",
       "<style scoped>\n",
       "    .dataframe tbody tr th:only-of-type {\n",
       "        vertical-align: middle;\n",
       "    }\n",
       "\n",
       "    .dataframe tbody tr th {\n",
       "        vertical-align: top;\n",
       "    }\n",
       "\n",
       "    .dataframe thead th {\n",
       "        text-align: right;\n",
       "    }\n",
       "</style>\n",
       "<table border=\"1\" class=\"dataframe\">\n",
       "  <thead>\n",
       "    <tr style=\"text-align: right;\">\n",
       "      <th></th>\n",
       "      <th>gender</th>\n",
       "      <th>race/ethnicity</th>\n",
       "      <th>parental level of education</th>\n",
       "      <th>lunch</th>\n",
       "      <th>test preparation course</th>\n",
       "      <th>math score</th>\n",
       "      <th>reading score</th>\n",
       "      <th>writing score</th>\n",
       "    </tr>\n",
       "  </thead>\n",
       "  <tbody>\n",
       "    <tr>\n",
       "      <th>0</th>\n",
       "      <td>female</td>\n",
       "      <td>group B</td>\n",
       "      <td>bachelor's degree</td>\n",
       "      <td>standard</td>\n",
       "      <td>none</td>\n",
       "      <td>72</td>\n",
       "      <td>72</td>\n",
       "      <td>74</td>\n",
       "    </tr>\n",
       "    <tr>\n",
       "      <th>1</th>\n",
       "      <td>female</td>\n",
       "      <td>group C</td>\n",
       "      <td>some college</td>\n",
       "      <td>standard</td>\n",
       "      <td>completed</td>\n",
       "      <td>69</td>\n",
       "      <td>90</td>\n",
       "      <td>88</td>\n",
       "    </tr>\n",
       "    <tr>\n",
       "      <th>2</th>\n",
       "      <td>female</td>\n",
       "      <td>group B</td>\n",
       "      <td>master's degree</td>\n",
       "      <td>standard</td>\n",
       "      <td>none</td>\n",
       "      <td>90</td>\n",
       "      <td>95</td>\n",
       "      <td>93</td>\n",
       "    </tr>\n",
       "    <tr>\n",
       "      <th>3</th>\n",
       "      <td>male</td>\n",
       "      <td>group A</td>\n",
       "      <td>associate's degree</td>\n",
       "      <td>free/reduced</td>\n",
       "      <td>none</td>\n",
       "      <td>47</td>\n",
       "      <td>57</td>\n",
       "      <td>44</td>\n",
       "    </tr>\n",
       "    <tr>\n",
       "      <th>4</th>\n",
       "      <td>male</td>\n",
       "      <td>group C</td>\n",
       "      <td>some college</td>\n",
       "      <td>standard</td>\n",
       "      <td>none</td>\n",
       "      <td>76</td>\n",
       "      <td>78</td>\n",
       "      <td>75</td>\n",
       "    </tr>\n",
       "  </tbody>\n",
       "</table>\n",
       "</div>"
      ],
      "text/plain": [
       "   gender race/ethnicity parental level of education         lunch  \\\n",
       "0  female        group B           bachelor's degree      standard   \n",
       "1  female        group C                some college      standard   \n",
       "2  female        group B             master's degree      standard   \n",
       "3    male        group A          associate's degree  free/reduced   \n",
       "4    male        group C                some college      standard   \n",
       "\n",
       "  test preparation course  math score  reading score  writing score  \n",
       "0                    none          72             72             74  \n",
       "1               completed          69             90             88  \n",
       "2                    none          90             95             93  \n",
       "3                    none          47             57             44  \n",
       "4                    none          76             78             75  "
      ]
     },
     "execution_count": 2,
     "metadata": {},
     "output_type": "execute_result"
    }
   ],
   "source": [
    "stud_perf=pd.read_csv('../input/students-performance-in-exams/StudentsPerformance.csv')\n",
    "stud_perf.head()"
   ]
  },
  {
   "cell_type": "code",
   "execution_count": 3,
   "id": "f0c3d146",
   "metadata": {
    "execution": {
     "iopub.execute_input": "2023-04-15T13:27:34.692038Z",
     "iopub.status.busy": "2023-04-15T13:27:34.691461Z",
     "iopub.status.idle": "2023-04-15T13:27:34.714401Z",
     "shell.execute_reply": "2023-04-15T13:27:34.712649Z"
    },
    "papermill": {
     "duration": 0.038761,
     "end_time": "2023-04-15T13:27:34.717290",
     "exception": false,
     "start_time": "2023-04-15T13:27:34.678529",
     "status": "completed"
    },
    "tags": []
   },
   "outputs": [
    {
     "name": "stdout",
     "output_type": "stream",
     "text": [
      "<class 'pandas.core.frame.DataFrame'>\n",
      "RangeIndex: 1000 entries, 0 to 999\n",
      "Data columns (total 8 columns):\n",
      " #   Column                       Non-Null Count  Dtype \n",
      "---  ------                       --------------  ----- \n",
      " 0   gender                       1000 non-null   object\n",
      " 1   race/ethnicity               1000 non-null   object\n",
      " 2   parental level of education  1000 non-null   object\n",
      " 3   lunch                        1000 non-null   object\n",
      " 4   test preparation course      1000 non-null   object\n",
      " 5   math score                   1000 non-null   int64 \n",
      " 6   reading score                1000 non-null   int64 \n",
      " 7   writing score                1000 non-null   int64 \n",
      "dtypes: int64(3), object(5)\n",
      "memory usage: 62.6+ KB\n"
     ]
    }
   ],
   "source": [
    "stud_perf.info()"
   ]
  },
  {
   "cell_type": "code",
   "execution_count": 4,
   "id": "81a4ab3b",
   "metadata": {
    "execution": {
     "iopub.execute_input": "2023-04-15T13:27:34.743370Z",
     "iopub.status.busy": "2023-04-15T13:27:34.743024Z",
     "iopub.status.idle": "2023-04-15T13:27:34.761463Z",
     "shell.execute_reply": "2023-04-15T13:27:34.760795Z"
    },
    "papermill": {
     "duration": 0.033495,
     "end_time": "2023-04-15T13:27:34.763104",
     "exception": false,
     "start_time": "2023-04-15T13:27:34.729609",
     "status": "completed"
    },
    "tags": []
   },
   "outputs": [
    {
     "data": {
      "text/html": [
       "<div>\n",
       "<style scoped>\n",
       "    .dataframe tbody tr th:only-of-type {\n",
       "        vertical-align: middle;\n",
       "    }\n",
       "\n",
       "    .dataframe tbody tr th {\n",
       "        vertical-align: top;\n",
       "    }\n",
       "\n",
       "    .dataframe thead th {\n",
       "        text-align: right;\n",
       "    }\n",
       "</style>\n",
       "<table border=\"1\" class=\"dataframe\">\n",
       "  <thead>\n",
       "    <tr style=\"text-align: right;\">\n",
       "      <th></th>\n",
       "      <th>math score</th>\n",
       "      <th>reading score</th>\n",
       "      <th>writing score</th>\n",
       "    </tr>\n",
       "  </thead>\n",
       "  <tbody>\n",
       "    <tr>\n",
       "      <th>count</th>\n",
       "      <td>1000.00</td>\n",
       "      <td>1000.00</td>\n",
       "      <td>1000.00</td>\n",
       "    </tr>\n",
       "    <tr>\n",
       "      <th>mean</th>\n",
       "      <td>66.09</td>\n",
       "      <td>69.17</td>\n",
       "      <td>68.05</td>\n",
       "    </tr>\n",
       "    <tr>\n",
       "      <th>std</th>\n",
       "      <td>15.16</td>\n",
       "      <td>14.60</td>\n",
       "      <td>15.20</td>\n",
       "    </tr>\n",
       "    <tr>\n",
       "      <th>min</th>\n",
       "      <td>0.00</td>\n",
       "      <td>17.00</td>\n",
       "      <td>10.00</td>\n",
       "    </tr>\n",
       "    <tr>\n",
       "      <th>25%</th>\n",
       "      <td>57.00</td>\n",
       "      <td>59.00</td>\n",
       "      <td>57.75</td>\n",
       "    </tr>\n",
       "    <tr>\n",
       "      <th>50%</th>\n",
       "      <td>66.00</td>\n",
       "      <td>70.00</td>\n",
       "      <td>69.00</td>\n",
       "    </tr>\n",
       "    <tr>\n",
       "      <th>75%</th>\n",
       "      <td>77.00</td>\n",
       "      <td>79.00</td>\n",
       "      <td>79.00</td>\n",
       "    </tr>\n",
       "    <tr>\n",
       "      <th>max</th>\n",
       "      <td>100.00</td>\n",
       "      <td>100.00</td>\n",
       "      <td>100.00</td>\n",
       "    </tr>\n",
       "  </tbody>\n",
       "</table>\n",
       "</div>"
      ],
      "text/plain": [
       "       math score  reading score  writing score\n",
       "count     1000.00        1000.00        1000.00\n",
       "mean        66.09          69.17          68.05\n",
       "std         15.16          14.60          15.20\n",
       "min          0.00          17.00          10.00\n",
       "25%         57.00          59.00          57.75\n",
       "50%         66.00          70.00          69.00\n",
       "75%         77.00          79.00          79.00\n",
       "max        100.00         100.00         100.00"
      ]
     },
     "execution_count": 4,
     "metadata": {},
     "output_type": "execute_result"
    }
   ],
   "source": [
    "stud_perf.describe()"
   ]
  },
  {
   "cell_type": "markdown",
   "id": "4c0b4559",
   "metadata": {
    "papermill": {
     "duration": 0.011604,
     "end_time": "2023-04-15T13:27:34.786894",
     "exception": false,
     "start_time": "2023-04-15T13:27:34.775290",
     "status": "completed"
    },
    "tags": []
   },
   "source": [
    "# <p style=\"background:navy;color:white;border :black solid; font-family:Comic Sans MS; font-size:170%;text-align:center;  border-radius: 20px 40px;\">Feature Engineering</p>"
   ]
  },
  {
   "cell_type": "markdown",
   "id": "0bde797e",
   "metadata": {
    "papermill": {
     "duration": 0.011588,
     "end_time": "2023-04-15T13:27:34.810389",
     "exception": false,
     "start_time": "2023-04-15T13:27:34.798801",
     "status": "completed"
    },
    "tags": []
   },
   "source": [
    "### <span style=\"font-family:Comic Sans MS; color:black\">Lets crete new column representing total marks which is nothing but sum of math, reading and writing scores</span>"
   ]
  },
  {
   "cell_type": "code",
   "execution_count": 5,
   "id": "fb4447c3",
   "metadata": {
    "execution": {
     "iopub.execute_input": "2023-04-15T13:27:34.835644Z",
     "iopub.status.busy": "2023-04-15T13:27:34.835312Z",
     "iopub.status.idle": "2023-04-15T13:27:34.840944Z",
     "shell.execute_reply": "2023-04-15T13:27:34.839852Z"
    },
    "papermill": {
     "duration": 0.020263,
     "end_time": "2023-04-15T13:27:34.842571",
     "exception": false,
     "start_time": "2023-04-15T13:27:34.822308",
     "status": "completed"
    },
    "tags": []
   },
   "outputs": [],
   "source": [
    "stud_perf['Total marks']=stud_perf['math score']+stud_perf['reading score']+stud_perf['writing score']"
   ]
  },
  {
   "cell_type": "code",
   "execution_count": 6,
   "id": "8173ac81",
   "metadata": {
    "execution": {
     "iopub.execute_input": "2023-04-15T13:27:34.867851Z",
     "iopub.status.busy": "2023-04-15T13:27:34.867342Z",
     "iopub.status.idle": "2023-04-15T13:27:34.880770Z",
     "shell.execute_reply": "2023-04-15T13:27:34.879479Z"
    },
    "papermill": {
     "duration": 0.028257,
     "end_time": "2023-04-15T13:27:34.882585",
     "exception": false,
     "start_time": "2023-04-15T13:27:34.854328",
     "status": "completed"
    },
    "tags": []
   },
   "outputs": [
    {
     "data": {
      "text/html": [
       "<div>\n",
       "<style scoped>\n",
       "    .dataframe tbody tr th:only-of-type {\n",
       "        vertical-align: middle;\n",
       "    }\n",
       "\n",
       "    .dataframe tbody tr th {\n",
       "        vertical-align: top;\n",
       "    }\n",
       "\n",
       "    .dataframe thead th {\n",
       "        text-align: right;\n",
       "    }\n",
       "</style>\n",
       "<table border=\"1\" class=\"dataframe\">\n",
       "  <thead>\n",
       "    <tr style=\"text-align: right;\">\n",
       "      <th></th>\n",
       "      <th>gender</th>\n",
       "      <th>race/ethnicity</th>\n",
       "      <th>parental level of education</th>\n",
       "      <th>lunch</th>\n",
       "      <th>test preparation course</th>\n",
       "      <th>math score</th>\n",
       "      <th>reading score</th>\n",
       "      <th>writing score</th>\n",
       "      <th>Total marks</th>\n",
       "    </tr>\n",
       "  </thead>\n",
       "  <tbody>\n",
       "    <tr>\n",
       "      <th>0</th>\n",
       "      <td>female</td>\n",
       "      <td>group B</td>\n",
       "      <td>bachelor's degree</td>\n",
       "      <td>standard</td>\n",
       "      <td>none</td>\n",
       "      <td>72</td>\n",
       "      <td>72</td>\n",
       "      <td>74</td>\n",
       "      <td>218</td>\n",
       "    </tr>\n",
       "    <tr>\n",
       "      <th>1</th>\n",
       "      <td>female</td>\n",
       "      <td>group C</td>\n",
       "      <td>some college</td>\n",
       "      <td>standard</td>\n",
       "      <td>completed</td>\n",
       "      <td>69</td>\n",
       "      <td>90</td>\n",
       "      <td>88</td>\n",
       "      <td>247</td>\n",
       "    </tr>\n",
       "    <tr>\n",
       "      <th>2</th>\n",
       "      <td>female</td>\n",
       "      <td>group B</td>\n",
       "      <td>master's degree</td>\n",
       "      <td>standard</td>\n",
       "      <td>none</td>\n",
       "      <td>90</td>\n",
       "      <td>95</td>\n",
       "      <td>93</td>\n",
       "      <td>278</td>\n",
       "    </tr>\n",
       "    <tr>\n",
       "      <th>3</th>\n",
       "      <td>male</td>\n",
       "      <td>group A</td>\n",
       "      <td>associate's degree</td>\n",
       "      <td>free/reduced</td>\n",
       "      <td>none</td>\n",
       "      <td>47</td>\n",
       "      <td>57</td>\n",
       "      <td>44</td>\n",
       "      <td>148</td>\n",
       "    </tr>\n",
       "    <tr>\n",
       "      <th>4</th>\n",
       "      <td>male</td>\n",
       "      <td>group C</td>\n",
       "      <td>some college</td>\n",
       "      <td>standard</td>\n",
       "      <td>none</td>\n",
       "      <td>76</td>\n",
       "      <td>78</td>\n",
       "      <td>75</td>\n",
       "      <td>229</td>\n",
       "    </tr>\n",
       "  </tbody>\n",
       "</table>\n",
       "</div>"
      ],
      "text/plain": [
       "   gender race/ethnicity parental level of education         lunch  \\\n",
       "0  female        group B           bachelor's degree      standard   \n",
       "1  female        group C                some college      standard   \n",
       "2  female        group B             master's degree      standard   \n",
       "3    male        group A          associate's degree  free/reduced   \n",
       "4    male        group C                some college      standard   \n",
       "\n",
       "  test preparation course  math score  reading score  writing score  \\\n",
       "0                    none          72             72             74   \n",
       "1               completed          69             90             88   \n",
       "2                    none          90             95             93   \n",
       "3                    none          47             57             44   \n",
       "4                    none          76             78             75   \n",
       "\n",
       "   Total marks  \n",
       "0          218  \n",
       "1          247  \n",
       "2          278  \n",
       "3          148  \n",
       "4          229  "
      ]
     },
     "execution_count": 6,
     "metadata": {},
     "output_type": "execute_result"
    }
   ],
   "source": [
    "stud_perf.head()"
   ]
  },
  {
   "cell_type": "markdown",
   "id": "7764990a",
   "metadata": {
    "papermill": {
     "duration": 0.012852,
     "end_time": "2023-04-15T13:27:34.907588",
     "exception": false,
     "start_time": "2023-04-15T13:27:34.894736",
     "status": "completed"
    },
    "tags": []
   },
   "source": [
    "### <span style=\"font-family:Comic Sans MS; color:blue\">Converting Categorical Features Into Numerical</span> \n",
    "\n",
    "### <span style=\"font-family:Comic Sans MS; color:black\">To predict the total marks of any student in the table we need to take into consideration all the columns.<br/>So lets convert the categorical data columns into numerical ones by using get_dummies function</span>"
   ]
  },
  {
   "cell_type": "code",
   "execution_count": 7,
   "id": "48138a73",
   "metadata": {
    "execution": {
     "iopub.execute_input": "2023-04-15T13:27:34.935155Z",
     "iopub.status.busy": "2023-04-15T13:27:34.934809Z",
     "iopub.status.idle": "2023-04-15T13:27:34.948121Z",
     "shell.execute_reply": "2023-04-15T13:27:34.946814Z"
    },
    "papermill": {
     "duration": 0.029995,
     "end_time": "2023-04-15T13:27:34.950464",
     "exception": false,
     "start_time": "2023-04-15T13:27:34.920469",
     "status": "completed"
    },
    "tags": []
   },
   "outputs": [
    {
     "data": {
      "text/html": [
       "<div>\n",
       "<style scoped>\n",
       "    .dataframe tbody tr th:only-of-type {\n",
       "        vertical-align: middle;\n",
       "    }\n",
       "\n",
       "    .dataframe tbody tr th {\n",
       "        vertical-align: top;\n",
       "    }\n",
       "\n",
       "    .dataframe thead th {\n",
       "        text-align: right;\n",
       "    }\n",
       "</style>\n",
       "<table border=\"1\" class=\"dataframe\">\n",
       "  <thead>\n",
       "    <tr style=\"text-align: right;\">\n",
       "      <th></th>\n",
       "      <th>gender</th>\n",
       "      <th>race/ethnicity</th>\n",
       "      <th>parental level of education</th>\n",
       "      <th>lunch</th>\n",
       "      <th>test preparation course</th>\n",
       "      <th>math score</th>\n",
       "      <th>reading score</th>\n",
       "      <th>writing score</th>\n",
       "      <th>Total marks</th>\n",
       "    </tr>\n",
       "  </thead>\n",
       "  <tbody>\n",
       "    <tr>\n",
       "      <th>0</th>\n",
       "      <td>female</td>\n",
       "      <td>group B</td>\n",
       "      <td>bachelor's degree</td>\n",
       "      <td>standard</td>\n",
       "      <td>none</td>\n",
       "      <td>72</td>\n",
       "      <td>72</td>\n",
       "      <td>74</td>\n",
       "      <td>218</td>\n",
       "    </tr>\n",
       "    <tr>\n",
       "      <th>1</th>\n",
       "      <td>female</td>\n",
       "      <td>group C</td>\n",
       "      <td>some college</td>\n",
       "      <td>standard</td>\n",
       "      <td>completed</td>\n",
       "      <td>69</td>\n",
       "      <td>90</td>\n",
       "      <td>88</td>\n",
       "      <td>247</td>\n",
       "    </tr>\n",
       "    <tr>\n",
       "      <th>2</th>\n",
       "      <td>female</td>\n",
       "      <td>group B</td>\n",
       "      <td>master's degree</td>\n",
       "      <td>standard</td>\n",
       "      <td>none</td>\n",
       "      <td>90</td>\n",
       "      <td>95</td>\n",
       "      <td>93</td>\n",
       "      <td>278</td>\n",
       "    </tr>\n",
       "    <tr>\n",
       "      <th>3</th>\n",
       "      <td>male</td>\n",
       "      <td>group A</td>\n",
       "      <td>associate's degree</td>\n",
       "      <td>free/reduced</td>\n",
       "      <td>none</td>\n",
       "      <td>47</td>\n",
       "      <td>57</td>\n",
       "      <td>44</td>\n",
       "      <td>148</td>\n",
       "    </tr>\n",
       "    <tr>\n",
       "      <th>4</th>\n",
       "      <td>male</td>\n",
       "      <td>group C</td>\n",
       "      <td>some college</td>\n",
       "      <td>standard</td>\n",
       "      <td>none</td>\n",
       "      <td>76</td>\n",
       "      <td>78</td>\n",
       "      <td>75</td>\n",
       "      <td>229</td>\n",
       "    </tr>\n",
       "  </tbody>\n",
       "</table>\n",
       "</div>"
      ],
      "text/plain": [
       "   gender race/ethnicity parental level of education         lunch  \\\n",
       "0  female        group B           bachelor's degree      standard   \n",
       "1  female        group C                some college      standard   \n",
       "2  female        group B             master's degree      standard   \n",
       "3    male        group A          associate's degree  free/reduced   \n",
       "4    male        group C                some college      standard   \n",
       "\n",
       "  test preparation course  math score  reading score  writing score  \\\n",
       "0                    none          72             72             74   \n",
       "1               completed          69             90             88   \n",
       "2                    none          90             95             93   \n",
       "3                    none          47             57             44   \n",
       "4                    none          76             78             75   \n",
       "\n",
       "   Total marks  \n",
       "0          218  \n",
       "1          247  \n",
       "2          278  \n",
       "3          148  \n",
       "4          229  "
      ]
     },
     "execution_count": 7,
     "metadata": {},
     "output_type": "execute_result"
    }
   ],
   "source": [
    "stud_perf.head()"
   ]
  },
  {
   "cell_type": "code",
   "execution_count": 8,
   "id": "646dee03",
   "metadata": {
    "execution": {
     "iopub.execute_input": "2023-04-15T13:27:34.976394Z",
     "iopub.status.busy": "2023-04-15T13:27:34.976051Z",
     "iopub.status.idle": "2023-04-15T13:27:34.995490Z",
     "shell.execute_reply": "2023-04-15T13:27:34.994629Z"
    },
    "papermill": {
     "duration": 0.034308,
     "end_time": "2023-04-15T13:27:34.997236",
     "exception": false,
     "start_time": "2023-04-15T13:27:34.962928",
     "status": "completed"
    },
    "tags": []
   },
   "outputs": [
    {
     "data": {
      "text/html": [
       "<div>\n",
       "<style scoped>\n",
       "    .dataframe tbody tr th:only-of-type {\n",
       "        vertical-align: middle;\n",
       "    }\n",
       "\n",
       "    .dataframe tbody tr th {\n",
       "        vertical-align: top;\n",
       "    }\n",
       "\n",
       "    .dataframe thead th {\n",
       "        text-align: right;\n",
       "    }\n",
       "</style>\n",
       "<table border=\"1\" class=\"dataframe\">\n",
       "  <thead>\n",
       "    <tr style=\"text-align: right;\">\n",
       "      <th></th>\n",
       "      <th>math score</th>\n",
       "      <th>reading score</th>\n",
       "      <th>writing score</th>\n",
       "      <th>Total marks</th>\n",
       "      <th>gender_male</th>\n",
       "      <th>race/ethnicity_group B</th>\n",
       "      <th>race/ethnicity_group C</th>\n",
       "      <th>race/ethnicity_group D</th>\n",
       "      <th>race/ethnicity_group E</th>\n",
       "      <th>parental level of education_bachelor's degree</th>\n",
       "      <th>parental level of education_high school</th>\n",
       "      <th>parental level of education_master's degree</th>\n",
       "      <th>parental level of education_some college</th>\n",
       "      <th>parental level of education_some high school</th>\n",
       "      <th>lunch_standard</th>\n",
       "      <th>test preparation course_none</th>\n",
       "    </tr>\n",
       "  </thead>\n",
       "  <tbody>\n",
       "    <tr>\n",
       "      <th>0</th>\n",
       "      <td>72</td>\n",
       "      <td>72</td>\n",
       "      <td>74</td>\n",
       "      <td>218</td>\n",
       "      <td>0</td>\n",
       "      <td>1</td>\n",
       "      <td>0</td>\n",
       "      <td>0</td>\n",
       "      <td>0</td>\n",
       "      <td>1</td>\n",
       "      <td>0</td>\n",
       "      <td>0</td>\n",
       "      <td>0</td>\n",
       "      <td>0</td>\n",
       "      <td>1</td>\n",
       "      <td>1</td>\n",
       "    </tr>\n",
       "    <tr>\n",
       "      <th>1</th>\n",
       "      <td>69</td>\n",
       "      <td>90</td>\n",
       "      <td>88</td>\n",
       "      <td>247</td>\n",
       "      <td>0</td>\n",
       "      <td>0</td>\n",
       "      <td>1</td>\n",
       "      <td>0</td>\n",
       "      <td>0</td>\n",
       "      <td>0</td>\n",
       "      <td>0</td>\n",
       "      <td>0</td>\n",
       "      <td>1</td>\n",
       "      <td>0</td>\n",
       "      <td>1</td>\n",
       "      <td>0</td>\n",
       "    </tr>\n",
       "    <tr>\n",
       "      <th>2</th>\n",
       "      <td>90</td>\n",
       "      <td>95</td>\n",
       "      <td>93</td>\n",
       "      <td>278</td>\n",
       "      <td>0</td>\n",
       "      <td>1</td>\n",
       "      <td>0</td>\n",
       "      <td>0</td>\n",
       "      <td>0</td>\n",
       "      <td>0</td>\n",
       "      <td>0</td>\n",
       "      <td>1</td>\n",
       "      <td>0</td>\n",
       "      <td>0</td>\n",
       "      <td>1</td>\n",
       "      <td>1</td>\n",
       "    </tr>\n",
       "    <tr>\n",
       "      <th>3</th>\n",
       "      <td>47</td>\n",
       "      <td>57</td>\n",
       "      <td>44</td>\n",
       "      <td>148</td>\n",
       "      <td>1</td>\n",
       "      <td>0</td>\n",
       "      <td>0</td>\n",
       "      <td>0</td>\n",
       "      <td>0</td>\n",
       "      <td>0</td>\n",
       "      <td>0</td>\n",
       "      <td>0</td>\n",
       "      <td>0</td>\n",
       "      <td>0</td>\n",
       "      <td>0</td>\n",
       "      <td>1</td>\n",
       "    </tr>\n",
       "    <tr>\n",
       "      <th>4</th>\n",
       "      <td>76</td>\n",
       "      <td>78</td>\n",
       "      <td>75</td>\n",
       "      <td>229</td>\n",
       "      <td>1</td>\n",
       "      <td>0</td>\n",
       "      <td>1</td>\n",
       "      <td>0</td>\n",
       "      <td>0</td>\n",
       "      <td>0</td>\n",
       "      <td>0</td>\n",
       "      <td>0</td>\n",
       "      <td>1</td>\n",
       "      <td>0</td>\n",
       "      <td>1</td>\n",
       "      <td>1</td>\n",
       "    </tr>\n",
       "  </tbody>\n",
       "</table>\n",
       "</div>"
      ],
      "text/plain": [
       "   math score  reading score  writing score  Total marks  gender_male  \\\n",
       "0          72             72             74          218            0   \n",
       "1          69             90             88          247            0   \n",
       "2          90             95             93          278            0   \n",
       "3          47             57             44          148            1   \n",
       "4          76             78             75          229            1   \n",
       "\n",
       "   race/ethnicity_group B  race/ethnicity_group C  race/ethnicity_group D  \\\n",
       "0                       1                       0                       0   \n",
       "1                       0                       1                       0   \n",
       "2                       1                       0                       0   \n",
       "3                       0                       0                       0   \n",
       "4                       0                       1                       0   \n",
       "\n",
       "   race/ethnicity_group E  parental level of education_bachelor's degree  \\\n",
       "0                       0                                              1   \n",
       "1                       0                                              0   \n",
       "2                       0                                              0   \n",
       "3                       0                                              0   \n",
       "4                       0                                              0   \n",
       "\n",
       "   parental level of education_high school  \\\n",
       "0                                        0   \n",
       "1                                        0   \n",
       "2                                        0   \n",
       "3                                        0   \n",
       "4                                        0   \n",
       "\n",
       "   parental level of education_master's degree  \\\n",
       "0                                            0   \n",
       "1                                            0   \n",
       "2                                            1   \n",
       "3                                            0   \n",
       "4                                            0   \n",
       "\n",
       "   parental level of education_some college  \\\n",
       "0                                         0   \n",
       "1                                         1   \n",
       "2                                         0   \n",
       "3                                         0   \n",
       "4                                         1   \n",
       "\n",
       "   parental level of education_some high school  lunch_standard  \\\n",
       "0                                             0               1   \n",
       "1                                             0               1   \n",
       "2                                             0               1   \n",
       "3                                             0               0   \n",
       "4                                             0               1   \n",
       "\n",
       "   test preparation course_none  \n",
       "0                             1  \n",
       "1                             0  \n",
       "2                             1  \n",
       "3                             1  \n",
       "4                             1  "
      ]
     },
     "execution_count": 8,
     "metadata": {},
     "output_type": "execute_result"
    }
   ],
   "source": [
    "stud_perf=pd.get_dummies(stud_perf, drop_first=True)\n",
    "stud_perf.head()"
   ]
  },
  {
   "cell_type": "markdown",
   "id": "0da6e4e2",
   "metadata": {
    "papermill": {
     "duration": 0.012149,
     "end_time": "2023-04-15T13:27:35.022023",
     "exception": false,
     "start_time": "2023-04-15T13:27:35.009874",
     "status": "completed"
    },
    "tags": []
   },
   "source": [
    "### <span style=\"font-family:Comic Sans MS; color:black\">Creating final dataframe so as to train the model</span>"
   ]
  },
  {
   "cell_type": "code",
   "execution_count": 9,
   "id": "ccd5e379",
   "metadata": {
    "execution": {
     "iopub.execute_input": "2023-04-15T13:27:35.048300Z",
     "iopub.status.busy": "2023-04-15T13:27:35.047980Z",
     "iopub.status.idle": "2023-04-15T13:27:35.060604Z",
     "shell.execute_reply": "2023-04-15T13:27:35.059799Z"
    },
    "papermill": {
     "duration": 0.028038,
     "end_time": "2023-04-15T13:27:35.062467",
     "exception": false,
     "start_time": "2023-04-15T13:27:35.034429",
     "status": "completed"
    },
    "tags": []
   },
   "outputs": [
    {
     "data": {
      "text/html": [
       "<div>\n",
       "<style scoped>\n",
       "    .dataframe tbody tr th:only-of-type {\n",
       "        vertical-align: middle;\n",
       "    }\n",
       "\n",
       "    .dataframe tbody tr th {\n",
       "        vertical-align: top;\n",
       "    }\n",
       "\n",
       "    .dataframe thead th {\n",
       "        text-align: right;\n",
       "    }\n",
       "</style>\n",
       "<table border=\"1\" class=\"dataframe\">\n",
       "  <thead>\n",
       "    <tr style=\"text-align: right;\">\n",
       "      <th></th>\n",
       "      <th>math score</th>\n",
       "      <th>reading score</th>\n",
       "      <th>writing score</th>\n",
       "      <th>Total marks</th>\n",
       "      <th>gender_male</th>\n",
       "      <th>race/ethnicity_group B</th>\n",
       "      <th>race/ethnicity_group C</th>\n",
       "      <th>race/ethnicity_group D</th>\n",
       "      <th>race/ethnicity_group E</th>\n",
       "      <th>parental level of education_bachelor's degree</th>\n",
       "      <th>parental level of education_high school</th>\n",
       "      <th>parental level of education_master's degree</th>\n",
       "      <th>parental level of education_some college</th>\n",
       "      <th>parental level of education_some high school</th>\n",
       "      <th>lunch_standard</th>\n",
       "      <th>test preparation course_none</th>\n",
       "    </tr>\n",
       "  </thead>\n",
       "  <tbody>\n",
       "    <tr>\n",
       "      <th>0</th>\n",
       "      <td>72</td>\n",
       "      <td>72</td>\n",
       "      <td>74</td>\n",
       "      <td>218</td>\n",
       "      <td>0</td>\n",
       "      <td>1</td>\n",
       "      <td>0</td>\n",
       "      <td>0</td>\n",
       "      <td>0</td>\n",
       "      <td>1</td>\n",
       "      <td>0</td>\n",
       "      <td>0</td>\n",
       "      <td>0</td>\n",
       "      <td>0</td>\n",
       "      <td>1</td>\n",
       "      <td>1</td>\n",
       "    </tr>\n",
       "    <tr>\n",
       "      <th>1</th>\n",
       "      <td>69</td>\n",
       "      <td>90</td>\n",
       "      <td>88</td>\n",
       "      <td>247</td>\n",
       "      <td>0</td>\n",
       "      <td>0</td>\n",
       "      <td>1</td>\n",
       "      <td>0</td>\n",
       "      <td>0</td>\n",
       "      <td>0</td>\n",
       "      <td>0</td>\n",
       "      <td>0</td>\n",
       "      <td>1</td>\n",
       "      <td>0</td>\n",
       "      <td>1</td>\n",
       "      <td>0</td>\n",
       "    </tr>\n",
       "    <tr>\n",
       "      <th>2</th>\n",
       "      <td>90</td>\n",
       "      <td>95</td>\n",
       "      <td>93</td>\n",
       "      <td>278</td>\n",
       "      <td>0</td>\n",
       "      <td>1</td>\n",
       "      <td>0</td>\n",
       "      <td>0</td>\n",
       "      <td>0</td>\n",
       "      <td>0</td>\n",
       "      <td>0</td>\n",
       "      <td>1</td>\n",
       "      <td>0</td>\n",
       "      <td>0</td>\n",
       "      <td>1</td>\n",
       "      <td>1</td>\n",
       "    </tr>\n",
       "    <tr>\n",
       "      <th>3</th>\n",
       "      <td>47</td>\n",
       "      <td>57</td>\n",
       "      <td>44</td>\n",
       "      <td>148</td>\n",
       "      <td>1</td>\n",
       "      <td>0</td>\n",
       "      <td>0</td>\n",
       "      <td>0</td>\n",
       "      <td>0</td>\n",
       "      <td>0</td>\n",
       "      <td>0</td>\n",
       "      <td>0</td>\n",
       "      <td>0</td>\n",
       "      <td>0</td>\n",
       "      <td>0</td>\n",
       "      <td>1</td>\n",
       "    </tr>\n",
       "    <tr>\n",
       "      <th>4</th>\n",
       "      <td>76</td>\n",
       "      <td>78</td>\n",
       "      <td>75</td>\n",
       "      <td>229</td>\n",
       "      <td>1</td>\n",
       "      <td>0</td>\n",
       "      <td>1</td>\n",
       "      <td>0</td>\n",
       "      <td>0</td>\n",
       "      <td>0</td>\n",
       "      <td>0</td>\n",
       "      <td>0</td>\n",
       "      <td>1</td>\n",
       "      <td>0</td>\n",
       "      <td>1</td>\n",
       "      <td>1</td>\n",
       "    </tr>\n",
       "  </tbody>\n",
       "</table>\n",
       "</div>"
      ],
      "text/plain": [
       "   math score  reading score  writing score  Total marks  gender_male  \\\n",
       "0          72             72             74          218            0   \n",
       "1          69             90             88          247            0   \n",
       "2          90             95             93          278            0   \n",
       "3          47             57             44          148            1   \n",
       "4          76             78             75          229            1   \n",
       "\n",
       "   race/ethnicity_group B  race/ethnicity_group C  race/ethnicity_group D  \\\n",
       "0                       1                       0                       0   \n",
       "1                       0                       1                       0   \n",
       "2                       1                       0                       0   \n",
       "3                       0                       0                       0   \n",
       "4                       0                       1                       0   \n",
       "\n",
       "   race/ethnicity_group E  parental level of education_bachelor's degree  \\\n",
       "0                       0                                              1   \n",
       "1                       0                                              0   \n",
       "2                       0                                              0   \n",
       "3                       0                                              0   \n",
       "4                       0                                              0   \n",
       "\n",
       "   parental level of education_high school  \\\n",
       "0                                        0   \n",
       "1                                        0   \n",
       "2                                        0   \n",
       "3                                        0   \n",
       "4                                        0   \n",
       "\n",
       "   parental level of education_master's degree  \\\n",
       "0                                            0   \n",
       "1                                            0   \n",
       "2                                            1   \n",
       "3                                            0   \n",
       "4                                            0   \n",
       "\n",
       "   parental level of education_some college  \\\n",
       "0                                         0   \n",
       "1                                         1   \n",
       "2                                         0   \n",
       "3                                         0   \n",
       "4                                         1   \n",
       "\n",
       "   parental level of education_some high school  lunch_standard  \\\n",
       "0                                             0               1   \n",
       "1                                             0               1   \n",
       "2                                             0               1   \n",
       "3                                             0               0   \n",
       "4                                             0               1   \n",
       "\n",
       "   test preparation course_none  \n",
       "0                             1  \n",
       "1                             0  \n",
       "2                             1  \n",
       "3                             1  \n",
       "4                             1  "
      ]
     },
     "execution_count": 9,
     "metadata": {},
     "output_type": "execute_result"
    }
   ],
   "source": [
    "stud_perf.head()"
   ]
  },
  {
   "cell_type": "markdown",
   "id": "95bf14d3",
   "metadata": {
    "papermill": {
     "duration": 0.012648,
     "end_time": "2023-04-15T13:27:35.088188",
     "exception": false,
     "start_time": "2023-04-15T13:27:35.075540",
     "status": "completed"
    },
    "tags": []
   },
   "source": [
    "# <p style=\"background:navy;color:white;border :black solid; font-family:Comic Sans MS; font-size:170%;text-align:center;  border-radius: 20px 40px;\">Predictive Analysis</p>"
   ]
  },
  {
   "cell_type": "markdown",
   "id": "b0de55df",
   "metadata": {
    "papermill": {
     "duration": 0.012545,
     "end_time": "2023-04-15T13:27:35.113601",
     "exception": false,
     "start_time": "2023-04-15T13:27:35.101056",
     "status": "completed"
    },
    "tags": []
   },
   "source": [
    "## <span style=\"font-family:Comic Sans MS; color:blue\">Importing the Libraries</span> "
   ]
  },
  {
   "cell_type": "code",
   "execution_count": 10,
   "id": "f1554890",
   "metadata": {
    "execution": {
     "iopub.execute_input": "2023-04-15T13:27:35.140871Z",
     "iopub.status.busy": "2023-04-15T13:27:35.140515Z",
     "iopub.status.idle": "2023-04-15T13:27:35.146730Z",
     "shell.execute_reply": "2023-04-15T13:27:35.145008Z"
    },
    "papermill": {
     "duration": 0.022334,
     "end_time": "2023-04-15T13:27:35.148755",
     "exception": false,
     "start_time": "2023-04-15T13:27:35.126421",
     "status": "completed"
    },
    "tags": []
   },
   "outputs": [],
   "source": [
    "from sklearn.model_selection import train_test_split #for spliting the data\n",
    "from sklearn import metrics #for evaluation of the model\n",
    "\n",
    "from sklearn.linear_model import LinearRegression\n",
    "from sklearn.tree import DecisionTreeRegressor \n",
    "from sklearn.ensemble import RandomForestRegressor\n",
    "from sklearn.neighbors import KNeighborsRegressor\n",
    "import xgboost as xg\n",
    "from sklearn.linear_model import LassoLarsCV"
   ]
  },
  {
   "cell_type": "markdown",
   "id": "18009b38",
   "metadata": {
    "papermill": {
     "duration": 0.012541,
     "end_time": "2023-04-15T13:27:35.174598",
     "exception": false,
     "start_time": "2023-04-15T13:27:35.162057",
     "status": "completed"
    },
    "tags": []
   },
   "source": [
    "### <span style=\"font-family:Comic Sans MS; color:black\">Let's start by splitting our data into a training set and test set (there is another test.csv file that you can play around with in case you want to use all this data for training).</span>\n",
    "\n",
    " ## <span style=\"font-family:Comic Sans MS; color:blue\">Train Test Split</span> "
   ]
  },
  {
   "cell_type": "code",
   "execution_count": 11,
   "id": "5c0512b3",
   "metadata": {
    "execution": {
     "iopub.execute_input": "2023-04-15T13:27:35.201780Z",
     "iopub.status.busy": "2023-04-15T13:27:35.201416Z",
     "iopub.status.idle": "2023-04-15T13:27:35.210372Z",
     "shell.execute_reply": "2023-04-15T13:27:35.209282Z"
    },
    "papermill": {
     "duration": 0.025154,
     "end_time": "2023-04-15T13:27:35.212463",
     "exception": false,
     "start_time": "2023-04-15T13:27:35.187309",
     "status": "completed"
    },
    "tags": []
   },
   "outputs": [],
   "source": [
    "X=stud_perf.drop(['Total marks'], axis=1)\n",
    "y=stud_perf['Total marks']\n",
    "\n",
    "#train test split\n",
    "X_train, X_test, y_train, y_test = train_test_split(X, y, test_size=0.3, random_state=101)"
   ]
  },
  {
   "cell_type": "markdown",
   "id": "4d8de5a9",
   "metadata": {
    "papermill": {
     "duration": 0.012687,
     "end_time": "2023-04-15T13:27:35.237991",
     "exception": false,
     "start_time": "2023-04-15T13:27:35.225304",
     "status": "completed"
    },
    "tags": []
   },
   "source": [
    "# <p style=\"background:navy;color:white;border :black solid; font-family:Comic Sans MS; font-size:170%;text-align:center;  border-radius: 20px 40px;\">Lazypredict Model Selection</p>"
   ]
  },
  {
   "cell_type": "code",
   "execution_count": 12,
   "id": "279cfed8",
   "metadata": {
    "execution": {
     "iopub.execute_input": "2023-04-15T13:27:35.265528Z",
     "iopub.status.busy": "2023-04-15T13:27:35.265170Z",
     "iopub.status.idle": "2023-04-15T13:27:43.498907Z",
     "shell.execute_reply": "2023-04-15T13:27:43.497938Z"
    },
    "papermill": {
     "duration": 8.250332,
     "end_time": "2023-04-15T13:27:43.501119",
     "exception": false,
     "start_time": "2023-04-15T13:27:35.250787",
     "status": "completed"
    },
    "tags": []
   },
   "outputs": [
    {
     "name": "stderr",
     "output_type": "stream",
     "text": [
      "100%|██████████| 42/42 [00:08<00:00,  5.12it/s]\n"
     ]
    },
    {
     "data": {
      "text/html": [
       "<div>\n",
       "<style scoped>\n",
       "    .dataframe tbody tr th:only-of-type {\n",
       "        vertical-align: middle;\n",
       "    }\n",
       "\n",
       "    .dataframe tbody tr th {\n",
       "        vertical-align: top;\n",
       "    }\n",
       "\n",
       "    .dataframe thead th {\n",
       "        text-align: right;\n",
       "    }\n",
       "</style>\n",
       "<table border=\"1\" class=\"dataframe\">\n",
       "  <thead>\n",
       "    <tr style=\"text-align: right;\">\n",
       "      <th></th>\n",
       "      <th>Adjusted R-Squared</th>\n",
       "      <th>R-Squared</th>\n",
       "      <th>RMSE</th>\n",
       "      <th>Time Taken</th>\n",
       "    </tr>\n",
       "    <tr>\n",
       "      <th>Model</th>\n",
       "      <th></th>\n",
       "      <th></th>\n",
       "      <th></th>\n",
       "      <th></th>\n",
       "    </tr>\n",
       "  </thead>\n",
       "  <tbody>\n",
       "    <tr>\n",
       "      <th>LassoLarsCV</th>\n",
       "      <td>1.00</td>\n",
       "      <td>1.00</td>\n",
       "      <td>0.00</td>\n",
       "      <td>0.04</td>\n",
       "    </tr>\n",
       "    <tr>\n",
       "      <th>HuberRegressor</th>\n",
       "      <td>1.00</td>\n",
       "      <td>1.00</td>\n",
       "      <td>0.00</td>\n",
       "      <td>0.06</td>\n",
       "    </tr>\n",
       "    <tr>\n",
       "      <th>LassoLarsIC</th>\n",
       "      <td>1.00</td>\n",
       "      <td>1.00</td>\n",
       "      <td>0.00</td>\n",
       "      <td>0.03</td>\n",
       "    </tr>\n",
       "    <tr>\n",
       "      <th>OrthogonalMatchingPursuitCV</th>\n",
       "      <td>1.00</td>\n",
       "      <td>1.00</td>\n",
       "      <td>0.00</td>\n",
       "      <td>0.02</td>\n",
       "    </tr>\n",
       "    <tr>\n",
       "      <th>LarsCV</th>\n",
       "      <td>1.00</td>\n",
       "      <td>1.00</td>\n",
       "      <td>0.00</td>\n",
       "      <td>0.02</td>\n",
       "    </tr>\n",
       "    <tr>\n",
       "      <th>Lars</th>\n",
       "      <td>1.00</td>\n",
       "      <td>1.00</td>\n",
       "      <td>0.00</td>\n",
       "      <td>0.01</td>\n",
       "    </tr>\n",
       "    <tr>\n",
       "      <th>RANSACRegressor</th>\n",
       "      <td>1.00</td>\n",
       "      <td>1.00</td>\n",
       "      <td>0.00</td>\n",
       "      <td>0.03</td>\n",
       "    </tr>\n",
       "    <tr>\n",
       "      <th>LinearRegression</th>\n",
       "      <td>1.00</td>\n",
       "      <td>1.00</td>\n",
       "      <td>0.00</td>\n",
       "      <td>0.02</td>\n",
       "    </tr>\n",
       "    <tr>\n",
       "      <th>TransformedTargetRegressor</th>\n",
       "      <td>1.00</td>\n",
       "      <td>1.00</td>\n",
       "      <td>0.00</td>\n",
       "      <td>0.01</td>\n",
       "    </tr>\n",
       "    <tr>\n",
       "      <th>BayesianRidge</th>\n",
       "      <td>1.00</td>\n",
       "      <td>1.00</td>\n",
       "      <td>0.00</td>\n",
       "      <td>0.04</td>\n",
       "    </tr>\n",
       "    <tr>\n",
       "      <th>LinearSVR</th>\n",
       "      <td>1.00</td>\n",
       "      <td>1.00</td>\n",
       "      <td>0.00</td>\n",
       "      <td>0.02</td>\n",
       "    </tr>\n",
       "    <tr>\n",
       "      <th>RidgeCV</th>\n",
       "      <td>1.00</td>\n",
       "      <td>1.00</td>\n",
       "      <td>0.00</td>\n",
       "      <td>0.02</td>\n",
       "    </tr>\n",
       "    <tr>\n",
       "      <th>Ridge</th>\n",
       "      <td>1.00</td>\n",
       "      <td>1.00</td>\n",
       "      <td>0.03</td>\n",
       "      <td>0.02</td>\n",
       "    </tr>\n",
       "    <tr>\n",
       "      <th>LassoCV</th>\n",
       "      <td>1.00</td>\n",
       "      <td>1.00</td>\n",
       "      <td>0.04</td>\n",
       "      <td>0.09</td>\n",
       "    </tr>\n",
       "    <tr>\n",
       "      <th>PassiveAggressiveRegressor</th>\n",
       "      <td>1.00</td>\n",
       "      <td>1.00</td>\n",
       "      <td>0.04</td>\n",
       "      <td>0.01</td>\n",
       "    </tr>\n",
       "    <tr>\n",
       "      <th>SGDRegressor</th>\n",
       "      <td>1.00</td>\n",
       "      <td>1.00</td>\n",
       "      <td>0.19</td>\n",
       "      <td>0.04</td>\n",
       "    </tr>\n",
       "    <tr>\n",
       "      <th>ElasticNetCV</th>\n",
       "      <td>1.00</td>\n",
       "      <td>1.00</td>\n",
       "      <td>0.75</td>\n",
       "      <td>0.13</td>\n",
       "    </tr>\n",
       "    <tr>\n",
       "      <th>Lasso</th>\n",
       "      <td>1.00</td>\n",
       "      <td>1.00</td>\n",
       "      <td>0.98</td>\n",
       "      <td>0.01</td>\n",
       "    </tr>\n",
       "    <tr>\n",
       "      <th>ExtraTreesRegressor</th>\n",
       "      <td>1.00</td>\n",
       "      <td>1.00</td>\n",
       "      <td>1.35</td>\n",
       "      <td>0.25</td>\n",
       "    </tr>\n",
       "    <tr>\n",
       "      <th>GradientBoostingRegressor</th>\n",
       "      <td>1.00</td>\n",
       "      <td>1.00</td>\n",
       "      <td>1.92</td>\n",
       "      <td>0.10</td>\n",
       "    </tr>\n",
       "    <tr>\n",
       "      <th>RandomForestRegressor</th>\n",
       "      <td>1.00</td>\n",
       "      <td>1.00</td>\n",
       "      <td>2.07</td>\n",
       "      <td>0.27</td>\n",
       "    </tr>\n",
       "    <tr>\n",
       "      <th>XGBRegressor</th>\n",
       "      <td>1.00</td>\n",
       "      <td>1.00</td>\n",
       "      <td>2.10</td>\n",
       "      <td>0.38</td>\n",
       "    </tr>\n",
       "    <tr>\n",
       "      <th>BaggingRegressor</th>\n",
       "      <td>1.00</td>\n",
       "      <td>1.00</td>\n",
       "      <td>2.52</td>\n",
       "      <td>0.03</td>\n",
       "    </tr>\n",
       "    <tr>\n",
       "      <th>HistGradientBoostingRegressor</th>\n",
       "      <td>0.99</td>\n",
       "      <td>0.99</td>\n",
       "      <td>2.90</td>\n",
       "      <td>0.27</td>\n",
       "    </tr>\n",
       "    <tr>\n",
       "      <th>LGBMRegressor</th>\n",
       "      <td>0.99</td>\n",
       "      <td>0.99</td>\n",
       "      <td>3.03</td>\n",
       "      <td>0.12</td>\n",
       "    </tr>\n",
       "    <tr>\n",
       "      <th>DecisionTreeRegressor</th>\n",
       "      <td>0.99</td>\n",
       "      <td>0.99</td>\n",
       "      <td>4.16</td>\n",
       "      <td>0.03</td>\n",
       "    </tr>\n",
       "    <tr>\n",
       "      <th>PoissonRegressor</th>\n",
       "      <td>0.98</td>\n",
       "      <td>0.98</td>\n",
       "      <td>5.61</td>\n",
       "      <td>0.02</td>\n",
       "    </tr>\n",
       "    <tr>\n",
       "      <th>AdaBoostRegressor</th>\n",
       "      <td>0.98</td>\n",
       "      <td>0.98</td>\n",
       "      <td>5.74</td>\n",
       "      <td>0.10</td>\n",
       "    </tr>\n",
       "    <tr>\n",
       "      <th>ExtraTreeRegressor</th>\n",
       "      <td>0.98</td>\n",
       "      <td>0.98</td>\n",
       "      <td>6.01</td>\n",
       "      <td>0.01</td>\n",
       "    </tr>\n",
       "    <tr>\n",
       "      <th>ElasticNet</th>\n",
       "      <td>0.97</td>\n",
       "      <td>0.97</td>\n",
       "      <td>6.94</td>\n",
       "      <td>0.03</td>\n",
       "    </tr>\n",
       "    <tr>\n",
       "      <th>OrthogonalMatchingPursuit</th>\n",
       "      <td>0.94</td>\n",
       "      <td>0.94</td>\n",
       "      <td>10.05</td>\n",
       "      <td>0.01</td>\n",
       "    </tr>\n",
       "    <tr>\n",
       "      <th>GammaRegressor</th>\n",
       "      <td>0.92</td>\n",
       "      <td>0.93</td>\n",
       "      <td>10.92</td>\n",
       "      <td>0.01</td>\n",
       "    </tr>\n",
       "    <tr>\n",
       "      <th>TweedieRegressor</th>\n",
       "      <td>0.92</td>\n",
       "      <td>0.93</td>\n",
       "      <td>11.12</td>\n",
       "      <td>0.01</td>\n",
       "    </tr>\n",
       "    <tr>\n",
       "      <th>KNeighborsRegressor</th>\n",
       "      <td>0.84</td>\n",
       "      <td>0.85</td>\n",
       "      <td>15.96</td>\n",
       "      <td>0.02</td>\n",
       "    </tr>\n",
       "    <tr>\n",
       "      <th>SVR</th>\n",
       "      <td>0.76</td>\n",
       "      <td>0.77</td>\n",
       "      <td>19.50</td>\n",
       "      <td>0.09</td>\n",
       "    </tr>\n",
       "    <tr>\n",
       "      <th>NuSVR</th>\n",
       "      <td>0.64</td>\n",
       "      <td>0.66</td>\n",
       "      <td>23.68</td>\n",
       "      <td>0.04</td>\n",
       "    </tr>\n",
       "    <tr>\n",
       "      <th>LassoLars</th>\n",
       "      <td>0.57</td>\n",
       "      <td>0.59</td>\n",
       "      <td>25.94</td>\n",
       "      <td>0.02</td>\n",
       "    </tr>\n",
       "    <tr>\n",
       "      <th>DummyRegressor</th>\n",
       "      <td>-0.05</td>\n",
       "      <td>-0.00</td>\n",
       "      <td>40.75</td>\n",
       "      <td>0.02</td>\n",
       "    </tr>\n",
       "    <tr>\n",
       "      <th>QuantileRegressor</th>\n",
       "      <td>-0.05</td>\n",
       "      <td>-0.00</td>\n",
       "      <td>40.77</td>\n",
       "      <td>4.81</td>\n",
       "    </tr>\n",
       "    <tr>\n",
       "      <th>MLPRegressor</th>\n",
       "      <td>-1.20</td>\n",
       "      <td>-1.09</td>\n",
       "      <td>58.88</td>\n",
       "      <td>0.83</td>\n",
       "    </tr>\n",
       "    <tr>\n",
       "      <th>GaussianProcessRegressor</th>\n",
       "      <td>-2.99</td>\n",
       "      <td>-2.79</td>\n",
       "      <td>79.30</td>\n",
       "      <td>0.06</td>\n",
       "    </tr>\n",
       "    <tr>\n",
       "      <th>KernelRidge</th>\n",
       "      <td>-25.18</td>\n",
       "      <td>-23.86</td>\n",
       "      <td>203.19</td>\n",
       "      <td>0.03</td>\n",
       "    </tr>\n",
       "  </tbody>\n",
       "</table>\n",
       "</div>"
      ],
      "text/plain": [
       "                               Adjusted R-Squared  R-Squared   RMSE  \\\n",
       "Model                                                                 \n",
       "LassoLarsCV                                  1.00       1.00   0.00   \n",
       "HuberRegressor                               1.00       1.00   0.00   \n",
       "LassoLarsIC                                  1.00       1.00   0.00   \n",
       "OrthogonalMatchingPursuitCV                  1.00       1.00   0.00   \n",
       "LarsCV                                       1.00       1.00   0.00   \n",
       "Lars                                         1.00       1.00   0.00   \n",
       "RANSACRegressor                              1.00       1.00   0.00   \n",
       "LinearRegression                             1.00       1.00   0.00   \n",
       "TransformedTargetRegressor                   1.00       1.00   0.00   \n",
       "BayesianRidge                                1.00       1.00   0.00   \n",
       "LinearSVR                                    1.00       1.00   0.00   \n",
       "RidgeCV                                      1.00       1.00   0.00   \n",
       "Ridge                                        1.00       1.00   0.03   \n",
       "LassoCV                                      1.00       1.00   0.04   \n",
       "PassiveAggressiveRegressor                   1.00       1.00   0.04   \n",
       "SGDRegressor                                 1.00       1.00   0.19   \n",
       "ElasticNetCV                                 1.00       1.00   0.75   \n",
       "Lasso                                        1.00       1.00   0.98   \n",
       "ExtraTreesRegressor                          1.00       1.00   1.35   \n",
       "GradientBoostingRegressor                    1.00       1.00   1.92   \n",
       "RandomForestRegressor                        1.00       1.00   2.07   \n",
       "XGBRegressor                                 1.00       1.00   2.10   \n",
       "BaggingRegressor                             1.00       1.00   2.52   \n",
       "HistGradientBoostingRegressor                0.99       0.99   2.90   \n",
       "LGBMRegressor                                0.99       0.99   3.03   \n",
       "DecisionTreeRegressor                        0.99       0.99   4.16   \n",
       "PoissonRegressor                             0.98       0.98   5.61   \n",
       "AdaBoostRegressor                            0.98       0.98   5.74   \n",
       "ExtraTreeRegressor                           0.98       0.98   6.01   \n",
       "ElasticNet                                   0.97       0.97   6.94   \n",
       "OrthogonalMatchingPursuit                    0.94       0.94  10.05   \n",
       "GammaRegressor                               0.92       0.93  10.92   \n",
       "TweedieRegressor                             0.92       0.93  11.12   \n",
       "KNeighborsRegressor                          0.84       0.85  15.96   \n",
       "SVR                                          0.76       0.77  19.50   \n",
       "NuSVR                                        0.64       0.66  23.68   \n",
       "LassoLars                                    0.57       0.59  25.94   \n",
       "DummyRegressor                              -0.05      -0.00  40.75   \n",
       "QuantileRegressor                           -0.05      -0.00  40.77   \n",
       "MLPRegressor                                -1.20      -1.09  58.88   \n",
       "GaussianProcessRegressor                    -2.99      -2.79  79.30   \n",
       "KernelRidge                                -25.18     -23.86 203.19   \n",
       "\n",
       "                               Time Taken  \n",
       "Model                                      \n",
       "LassoLarsCV                          0.04  \n",
       "HuberRegressor                       0.06  \n",
       "LassoLarsIC                          0.03  \n",
       "OrthogonalMatchingPursuitCV          0.02  \n",
       "LarsCV                               0.02  \n",
       "Lars                                 0.01  \n",
       "RANSACRegressor                      0.03  \n",
       "LinearRegression                     0.02  \n",
       "TransformedTargetRegressor           0.01  \n",
       "BayesianRidge                        0.04  \n",
       "LinearSVR                            0.02  \n",
       "RidgeCV                              0.02  \n",
       "Ridge                                0.02  \n",
       "LassoCV                              0.09  \n",
       "PassiveAggressiveRegressor           0.01  \n",
       "SGDRegressor                         0.04  \n",
       "ElasticNetCV                         0.13  \n",
       "Lasso                                0.01  \n",
       "ExtraTreesRegressor                  0.25  \n",
       "GradientBoostingRegressor            0.10  \n",
       "RandomForestRegressor                0.27  \n",
       "XGBRegressor                         0.38  \n",
       "BaggingRegressor                     0.03  \n",
       "HistGradientBoostingRegressor        0.27  \n",
       "LGBMRegressor                        0.12  \n",
       "DecisionTreeRegressor                0.03  \n",
       "PoissonRegressor                     0.02  \n",
       "AdaBoostRegressor                    0.10  \n",
       "ExtraTreeRegressor                   0.01  \n",
       "ElasticNet                           0.03  \n",
       "OrthogonalMatchingPursuit            0.01  \n",
       "GammaRegressor                       0.01  \n",
       "TweedieRegressor                     0.01  \n",
       "KNeighborsRegressor                  0.02  \n",
       "SVR                                  0.09  \n",
       "NuSVR                                0.04  \n",
       "LassoLars                            0.02  \n",
       "DummyRegressor                       0.02  \n",
       "QuantileRegressor                    4.81  \n",
       "MLPRegressor                         0.83  \n",
       "GaussianProcessRegressor             0.06  \n",
       "KernelRidge                          0.03  "
      ]
     },
     "execution_count": 12,
     "metadata": {},
     "output_type": "execute_result"
    }
   ],
   "source": [
    "# fit all models\n",
    "reg = LazyRegressor(predictions=True)\n",
    "models, predictions = reg.fit(X_train, X_test, y_train, y_test)\n",
    "models"
   ]
  },
  {
   "cell_type": "markdown",
   "id": "97af9aa6",
   "metadata": {
    "papermill": {
     "duration": 0.014411,
     "end_time": "2023-04-15T13:27:43.530252",
     "exception": false,
     "start_time": "2023-04-15T13:27:43.515841",
     "status": "completed"
    },
    "tags": []
   },
   "source": [
    "### <span style=\"font-family:Comic Sans MS; color:navy\">As we can see by lazypredict Linear Regression is good option for predicting the marks <br>Rather than choosing non familiar top options in the above table we will go ahead with <b>Linear Regression</b> & <b>LassoLarsCV</b> and also for comparison we also work with some famous traditional models like Decision Tree, KNN etc</span>"
   ]
  },
  {
   "cell_type": "markdown",
   "id": "17ed7bb2",
   "metadata": {
    "papermill": {
     "duration": 0.014612,
     "end_time": "2023-04-15T13:27:43.559742",
     "exception": false,
     "start_time": "2023-04-15T13:27:43.545130",
     "status": "completed"
    },
    "tags": []
   },
   "source": [
    "# <p style=\"background:navy;color:white;border :black solid; font-family:Comic Sans MS; font-size:170%;text-align:center;  border-radius: 20px 40px;\">1. Linear Regression model</p>"
   ]
  },
  {
   "cell_type": "code",
   "execution_count": 13,
   "id": "a6613cf8",
   "metadata": {
    "execution": {
     "iopub.execute_input": "2023-04-15T13:27:43.590734Z",
     "iopub.status.busy": "2023-04-15T13:27:43.590361Z",
     "iopub.status.idle": "2023-04-15T13:27:43.602448Z",
     "shell.execute_reply": "2023-04-15T13:27:43.601623Z"
    },
    "papermill": {
     "duration": 0.030743,
     "end_time": "2023-04-15T13:27:43.605315",
     "exception": false,
     "start_time": "2023-04-15T13:27:43.574572",
     "status": "completed"
    },
    "tags": []
   },
   "outputs": [],
   "source": [
    "# create a linear regression object\n",
    "LR = LinearRegression()\n",
    "# fit the model\n",
    "LR.fit(X_train, y_train)\n",
    "# predict the values for test data\n",
    "predictions = LR.predict(X_test)"
   ]
  },
  {
   "cell_type": "markdown",
   "id": "99beacb4",
   "metadata": {
    "papermill": {
     "duration": 0.018573,
     "end_time": "2023-04-15T13:27:43.655581",
     "exception": false,
     "start_time": "2023-04-15T13:27:43.637008",
     "status": "completed"
    },
    "tags": []
   },
   "source": [
    "### <span style=\"font-family:Comic Sans MS; color:black\">Lets visualize our prediction against the testing data</span>"
   ]
  },
  {
   "cell_type": "code",
   "execution_count": 14,
   "id": "391141e5",
   "metadata": {
    "execution": {
     "iopub.execute_input": "2023-04-15T13:27:43.695155Z",
     "iopub.status.busy": "2023-04-15T13:27:43.694765Z",
     "iopub.status.idle": "2023-04-15T13:27:44.192752Z",
     "shell.execute_reply": "2023-04-15T13:27:44.192087Z"
    },
    "papermill": {
     "duration": 0.52041,
     "end_time": "2023-04-15T13:27:44.194335",
     "exception": false,
     "start_time": "2023-04-15T13:27:43.673925",
     "status": "completed"
    },
    "tags": []
   },
   "outputs": [
    {
     "data": {
      "image/png": "[encoded data removed]",
      "text/plain": [
       "<Figure size 864x360 with 2 Axes>"
      ]
     },
     "metadata": {
      "needs_background": "light"
     },
     "output_type": "display_data"
    }
   ],
   "source": [
    "plt.figure(figsize=(12,5))\n",
    "sns.set_style(\"darkgrid\")\n",
    "plt.subplot(1,2,1)\n",
    "sns.scatterplot(x=y_test, y=predictions, alpha=0.9);\n",
    "plt.xlabel('y_test')\n",
    "plt.ylabel('predictions')\n",
    "plt.title('Scatter plot')\n",
    "\n",
    "plt.subplot(1,2,2)\n",
    "sns.regplot(x=y_test, y=predictions)\n",
    "plt.xlabel('y_test')\n",
    "plt.ylabel('predictions')\n",
    "plt.title('Regression plot')\n",
    "\n",
    "plt.tight_layout()\n",
    "plt.show()"
   ]
  },
  {
   "cell_type": "markdown",
   "id": "f1b8bcb0",
   "metadata": {
    "papermill": {
     "duration": 0.014978,
     "end_time": "2023-04-15T13:27:44.224098",
     "exception": false,
     "start_time": "2023-04-15T13:27:44.209120",
     "status": "completed"
    },
    "tags": []
   },
   "source": [
    "### <span style=\"font-family:Comic Sans MS; color:black\">Well as above plot shows our model fits very well and showing that the reg score is almost equal to 1,<br>But still we can evaluate the model by the help of the cost functions</span>"
   ]
  },
  {
   "cell_type": "markdown",
   "id": "81f0408b",
   "metadata": {
    "papermill": {
     "duration": 0.014922,
     "end_time": "2023-04-15T13:27:44.254627",
     "exception": false,
     "start_time": "2023-04-15T13:27:44.239705",
     "status": "completed"
    },
    "tags": []
   },
   "source": [
    "### <span style=\"font-family:Comic Sans MS; color:blue\">Evaluation</span> "
   ]
  },
  {
   "cell_type": "markdown",
   "id": "0780336a",
   "metadata": {
    "papermill": {
     "duration": 0.014579,
     "end_time": "2023-04-15T13:27:44.284228",
     "exception": false,
     "start_time": "2023-04-15T13:27:44.269649",
     "status": "completed"
    },
    "tags": []
   },
   "source": [
    "### <span style=\"font-family:Comic Sans MS; color:black\">In case of linear regression we mostly use mean absolute error, mean squared error & root mean squared error as a cost fuctions <br>So lets import them and evaluate our model</span>"
   ]
  },
  {
   "cell_type": "code",
   "execution_count": 15,
   "id": "2fafb4f5",
   "metadata": {
    "execution": {
     "iopub.execute_input": "2023-04-15T13:27:44.315492Z",
     "iopub.status.busy": "2023-04-15T13:27:44.314922Z",
     "iopub.status.idle": "2023-04-15T13:27:44.329847Z",
     "shell.execute_reply": "2023-04-15T13:27:44.328673Z"
    },
    "papermill": {
     "duration": 0.03277,
     "end_time": "2023-04-15T13:27:44.331750",
     "exception": false,
     "start_time": "2023-04-15T13:27:44.298980",
     "status": "completed"
    },
    "tags": []
   },
   "outputs": [
    {
     "name": "stdout",
     "output_type": "stream",
     "text": [
      "The regression score on training data : 1.0\n",
      "The regression score on testing data : 1.0\n",
      "\n",
      "\n",
      "The Mean absolute error: 3.884300288821881e-15\n",
      "The mean squared error: 1.0635948631459827e-28\n",
      "The root mean squared error: 1.0313073562939338e-14\n"
     ]
    }
   ],
   "source": [
    "print('The regression score on training data : {}'.format(LR.score(X_train, y_train)))\n",
    "print('The regression score on testing data : {}'.format(LR.score(X_test, y_test)))\n",
    "print('\\n')\n",
    "print('The Mean absolute error:', metrics.mean_absolute_error(y_test, predictions))\n",
    "print('The mean squared error:', metrics.mean_squared_error(y_test, predictions))\n",
    "print('The root mean squared error:', np.sqrt(metrics.mean_squared_error(y_test, predictions)))"
   ]
  },
  {
   "cell_type": "markdown",
   "id": "92663c8d",
   "metadata": {
    "papermill": {
     "duration": 0.020391,
     "end_time": "2023-04-15T13:27:44.372417",
     "exception": false,
     "start_time": "2023-04-15T13:27:44.352026",
     "status": "completed"
    },
    "tags": []
   },
   "source": [
    "### <span style=\"font-family:Comic Sans MS; color:black\">Pretty well! That shows our model is best fitted on the given dataset</span>"
   ]
  },
  {
   "cell_type": "markdown",
   "id": "1f30c756",
   "metadata": {
    "papermill": {
     "duration": 0.019706,
     "end_time": "2023-04-15T13:27:44.412472",
     "exception": false,
     "start_time": "2023-04-15T13:27:44.392766",
     "status": "completed"
    },
    "tags": []
   },
   "source": [
    "### <span style=\"font-family:Comic Sans MS; color:black\">**Lets create models to predict the math score, reading score and writing score and compare the result**</span> "
   ]
  },
  {
   "cell_type": "code",
   "execution_count": 16,
   "id": "09c11695",
   "metadata": {
    "execution": {
     "iopub.execute_input": "2023-04-15T13:27:44.450553Z",
     "iopub.status.busy": "2023-04-15T13:27:44.450190Z",
     "iopub.status.idle": "2023-04-15T13:27:46.184038Z",
     "shell.execute_reply": "2023-04-15T13:27:46.182939Z"
    },
    "papermill": {
     "duration": 1.753841,
     "end_time": "2023-04-15T13:27:46.186202",
     "exception": false,
     "start_time": "2023-04-15T13:27:44.432361",
     "status": "completed"
    },
    "tags": []
   },
   "outputs": [
    {
     "name": "stdout",
     "output_type": "stream",
     "text": [
      "\n",
      "\n",
      "\u001b[1m\u001b[34mPredicting math score :\u001b[0m\n",
      "Plot between y_test and predictions \n"
     ]
    },
    {
     "data": {
      "image/png": "[encoded data removed]",
      "text/plain": [
       "<Figure size 864x360 with 2 Axes>"
      ]
     },
     "metadata": {},
     "output_type": "display_data"
    },
    {
     "name": "stdout",
     "output_type": "stream",
     "text": [
      "The regression score on training data : 0.8823567195578524\n",
      "The regression score on testing data : 0.855858127166467\n",
      "\n",
      "\n",
      "\u001b[1m\u001b[34mPredicting reading score :\u001b[0m\n",
      "Plot between y_test and predictions \n"
     ]
    },
    {
     "data": {
      "image/png": "[encoded data removed]",
      "text/plain": [
       "<Figure size 864x360 with 2 Axes>"
      ]
     },
     "metadata": {},
     "output_type": "display_data"
    },
    {
     "name": "stdout",
     "output_type": "stream",
     "text": [
      "The regression score on training data : 0.9309156544545266\n",
      "The regression score on testing data : 0.9144744493786325\n",
      "\n",
      "\n",
      "\u001b[1m\u001b[34mPredicting writing score :\u001b[0m\n",
      "Plot between y_test and predictions \n"
     ]
    },
    {
     "data": {
      "image/png": "[encoded data removed]",
      "text/plain": [
       "<Figure size 864x360 with 2 Axes>"
      ]
     },
     "metadata": {},
     "output_type": "display_data"
    },
    {
     "name": "stdout",
     "output_type": "stream",
     "text": [
      "The regression score on training data : 0.949755138487475\n",
      "The regression score on testing data : 0.9419406566375368\n"
     ]
    }
   ],
   "source": [
    "stud_perf2=stud_perf.drop('Total marks', axis=1)\n",
    "sns.set_style(\"darkgrid\")\n",
    "for i in ['math score', 'reading score', 'writing score']:\n",
    "    X_train, X_test, y_train, y_test = train_test_split(stud_perf2.drop([i], axis=1), stud_perf2[i], test_size=0.3, random_state=101)\n",
    "    \n",
    "    LR.fit(X_train, y_train)\n",
    "    predictions = LR.predict(X_test)\n",
    "    \n",
    "    print('\\n')\n",
    "    print(colored('Predicting {m} :'.format(m=i), 'blue', attrs=['bold']))\n",
    "    print('Plot between y_test and predictions ')\n",
    "    plt.figure(figsize=(12,5))\n",
    "\n",
    "    plt.subplot(1,2,1)\n",
    "    sns.scatterplot(x=y_test, y=predictions, alpha=0.8);\n",
    "    plt.xlabel('y_test')\n",
    "    plt.ylabel('predictions')\n",
    "    plt.title('Scatter plot')\n",
    "\n",
    "    plt.subplot(1,2,2)\n",
    "    sns.regplot(x=y_test, y=predictions)\n",
    "    plt.xlabel('y_test')\n",
    "    plt.ylabel('predictions')\n",
    "    plt.title('Regression plot')\n",
    "\n",
    "    plt.tight_layout()\n",
    "    plt.show()\n",
    "    print('The regression score on training data : {}'.format(LR.score(X_train, y_train)))\n",
    "    print('The regression score on testing data : {}'.format(LR.score(X_test, y_test)))\n",
    "   \n",
    "    "
   ]
  },
  {
   "cell_type": "markdown",
   "id": "45d742f7",
   "metadata": {
    "papermill": {
     "duration": 0.023139,
     "end_time": "2023-04-15T13:27:46.233088",
     "exception": false,
     "start_time": "2023-04-15T13:27:46.209949",
     "status": "completed"
    },
    "tags": []
   },
   "source": [
    "---"
   ]
  },
  {
   "cell_type": "markdown",
   "id": "bdeeabf6",
   "metadata": {
    "papermill": {
     "duration": 0.023093,
     "end_time": "2023-04-15T13:27:46.279242",
     "exception": false,
     "start_time": "2023-04-15T13:27:46.256149",
     "status": "completed"
    },
    "tags": []
   },
   "source": [
    "# <p style=\"background:navy;color:white;border :black solid; font-family:Comic Sans MS; font-size:170%;text-align:center;  border-radius: 20px 40px;\">2. LassoLarsCV</p>"
   ]
  },
  {
   "cell_type": "markdown",
   "id": "06e04c17",
   "metadata": {
    "papermill": {
     "duration": 0.017636,
     "end_time": "2023-04-15T13:27:46.318326",
     "exception": false,
     "start_time": "2023-04-15T13:27:46.300690",
     "status": "completed"
    },
    "tags": []
   },
   "source": [
    "<div class=\"alert alert-block alert-info\">\n",
    "<b>Note:</b> For total marks predictions only.</div>"
   ]
  },
  {
   "cell_type": "code",
   "execution_count": 17,
   "id": "f72e31a4",
   "metadata": {
    "execution": {
     "iopub.execute_input": "2023-04-15T13:27:46.355718Z",
     "iopub.status.busy": "2023-04-15T13:27:46.355343Z",
     "iopub.status.idle": "2023-04-15T13:27:46.362883Z",
     "shell.execute_reply": "2023-04-15T13:27:46.361643Z"
    },
    "papermill": {
     "duration": 0.028532,
     "end_time": "2023-04-15T13:27:46.364658",
     "exception": false,
     "start_time": "2023-04-15T13:27:46.336126",
     "status": "completed"
    },
    "tags": []
   },
   "outputs": [],
   "source": [
    "X=stud_perf.drop(['Total marks'], axis=1)\n",
    "y=stud_perf['Total marks']\n",
    "\n",
    "#train test split\n",
    "X_train, X_test, y_train, y_test = train_test_split(X, y, test_size=0.3, random_state=101)"
   ]
  },
  {
   "cell_type": "code",
   "execution_count": 18,
   "id": "c7b1808e",
   "metadata": {
    "execution": {
     "iopub.execute_input": "2023-04-15T13:27:46.402062Z",
     "iopub.status.busy": "2023-04-15T13:27:46.401470Z",
     "iopub.status.idle": "2023-04-15T13:27:46.418279Z",
     "shell.execute_reply": "2023-04-15T13:27:46.417255Z"
    },
    "papermill": {
     "duration": 0.038335,
     "end_time": "2023-04-15T13:27:46.420825",
     "exception": false,
     "start_time": "2023-04-15T13:27:46.382490",
     "status": "completed"
    },
    "tags": []
   },
   "outputs": [],
   "source": [
    "reg = LassoLarsCV(cv=5).fit(X_train,y_train)\n",
    "\n",
    "pred2=reg.predict(X_test)"
   ]
  },
  {
   "cell_type": "markdown",
   "id": "812d5905",
   "metadata": {
    "papermill": {
     "duration": 0.023362,
     "end_time": "2023-04-15T13:27:46.467525",
     "exception": false,
     "start_time": "2023-04-15T13:27:46.444163",
     "status": "completed"
    },
    "tags": []
   },
   "source": [
    "## <span style=\"font-family:Comic Sans MS; color:blue\">Model Evaluation</span> "
   ]
  },
  {
   "cell_type": "code",
   "execution_count": 19,
   "id": "90d904e6",
   "metadata": {
    "execution": {
     "iopub.execute_input": "2023-04-15T13:27:46.517304Z",
     "iopub.status.busy": "2023-04-15T13:27:46.516935Z",
     "iopub.status.idle": "2023-04-15T13:27:46.700077Z",
     "shell.execute_reply": "2023-04-15T13:27:46.698923Z"
    },
    "papermill": {
     "duration": 0.211007,
     "end_time": "2023-04-15T13:27:46.702428",
     "exception": false,
     "start_time": "2023-04-15T13:27:46.491421",
     "status": "completed"
    },
    "tags": []
   },
   "outputs": [
    {
     "name": "stdout",
     "output_type": "stream",
     "text": [
      "Score For Train Data : 1.0\n",
      "Score For Test Data : 1.0\n",
      "The mean absolute error: 6.745419038149218e-14\n",
      "The mean squared error: 7.630956562419533e-27\n",
      "The root mean squared error: 8.735534650162824e-14\n",
      "\n",
      "\n"
     ]
    },
    {
     "data": {
      "image/png": "[encoded data removed]",
      "text/plain": [
       "<Figure size 432x288 with 1 Axes>"
      ]
     },
     "metadata": {},
     "output_type": "display_data"
    }
   ],
   "source": [
    "# Regression Score of the model\n",
    "print('Score For Train Data : {}'.format(reg.score(X_train,y_train)))\n",
    "print('Score For Test Data : {}'.format(reg.score(X_test,y_test)))\n",
    "\n",
    "print('The mean absolute error:', metrics.mean_absolute_error(y_test, pred2))\n",
    "print('The mean squared error:', metrics.mean_squared_error(y_test, pred2))\n",
    "print('The root mean squared error:', np.sqrt(metrics.mean_squared_error(y_test, pred2)))\n",
    "print('\\n')\n",
    "\n",
    "# Plot showacasing the how well model fitted on testing data\n",
    "sns.scatterplot(x=y_test, y=pred2);\n",
    "plt.xlabel('y_test')\n",
    "plt.ylabel('predictions')\n",
    "plt.title('Actual test data vs Model predictions ')\n",
    "plt.show()"
   ]
  },
  {
   "cell_type": "markdown",
   "id": "a73d4f9b",
   "metadata": {
    "papermill": {
     "duration": 0.018206,
     "end_time": "2023-04-15T13:27:46.739483",
     "exception": false,
     "start_time": "2023-04-15T13:27:46.721277",
     "status": "completed"
    },
    "tags": []
   },
   "source": [
    "---"
   ]
  },
  {
   "cell_type": "markdown",
   "id": "12909de5",
   "metadata": {
    "papermill": {
     "duration": 0.017432,
     "end_time": "2023-04-15T13:27:46.776085",
     "exception": false,
     "start_time": "2023-04-15T13:27:46.758653",
     "status": "completed"
    },
    "tags": []
   },
   "source": [
    "# <p style=\"background:navy;color:white;border :black solid; font-family:Comic Sans MS; font-size:170%;text-align:center;  border-radius: 20px 40px;\">3. Decision Tree Regression Model</p>"
   ]
  },
  {
   "cell_type": "markdown",
   "id": "2def5827",
   "metadata": {
    "papermill": {
     "duration": 0.017238,
     "end_time": "2023-04-15T13:27:46.810727",
     "exception": false,
     "start_time": "2023-04-15T13:27:46.793489",
     "status": "completed"
    },
    "tags": []
   },
   "source": [
    "### <span style=\"font-family:Comic Sans MS; color:black\">Lets rerun train test split once again and use it for decision tree regression and random forest regression.</span>"
   ]
  },
  {
   "cell_type": "code",
   "execution_count": 20,
   "id": "d7d33567",
   "metadata": {
    "execution": {
     "iopub.execute_input": "2023-04-15T13:27:46.847005Z",
     "iopub.status.busy": "2023-04-15T13:27:46.846643Z",
     "iopub.status.idle": "2023-04-15T13:27:46.856264Z",
     "shell.execute_reply": "2023-04-15T13:27:46.854971Z"
    },
    "papermill": {
     "duration": 0.03075,
     "end_time": "2023-04-15T13:27:46.858831",
     "exception": false,
     "start_time": "2023-04-15T13:27:46.828081",
     "status": "completed"
    },
    "tags": []
   },
   "outputs": [],
   "source": [
    "X=stud_perf.drop(['Total marks'], axis=1)\n",
    "y=stud_perf['Total marks']\n",
    "\n",
    "#train test split\n",
    "X_train, X_test, y_train, y_test = train_test_split(X, y, test_size=0.3, random_state=101)"
   ]
  },
  {
   "cell_type": "code",
   "execution_count": 21,
   "id": "898c61ba",
   "metadata": {
    "execution": {
     "iopub.execute_input": "2023-04-15T13:27:46.897714Z",
     "iopub.status.busy": "2023-04-15T13:27:46.897343Z",
     "iopub.status.idle": "2023-04-15T13:27:46.909046Z",
     "shell.execute_reply": "2023-04-15T13:27:46.908115Z"
    },
    "papermill": {
     "duration": 0.03413,
     "end_time": "2023-04-15T13:27:46.911511",
     "exception": false,
     "start_time": "2023-04-15T13:27:46.877381",
     "status": "completed"
    },
    "tags": []
   },
   "outputs": [],
   "source": [
    "# create a regressor object\n",
    "DTR = DecisionTreeRegressor() \n",
    "# fit the model\n",
    "DTR.fit(X_train,y_train)\n",
    "# predict the values for test data\n",
    "pred2 = DTR.predict(X_test)"
   ]
  },
  {
   "cell_type": "markdown",
   "id": "2856f712",
   "metadata": {
    "papermill": {
     "duration": 0.017542,
     "end_time": "2023-04-15T13:27:46.947797",
     "exception": false,
     "start_time": "2023-04-15T13:27:46.930255",
     "status": "completed"
    },
    "tags": []
   },
   "source": [
    "## <span style=\"font-family:Comic Sans MS; color:blue\">Model Evaluation</span> "
   ]
  },
  {
   "cell_type": "code",
   "execution_count": 22,
   "id": "083feb39",
   "metadata": {
    "execution": {
     "iopub.execute_input": "2023-04-15T13:27:46.985895Z",
     "iopub.status.busy": "2023-04-15T13:27:46.984574Z",
     "iopub.status.idle": "2023-04-15T13:27:47.165587Z",
     "shell.execute_reply": "2023-04-15T13:27:47.164685Z"
    },
    "papermill": {
     "duration": 0.201883,
     "end_time": "2023-04-15T13:27:47.167438",
     "exception": false,
     "start_time": "2023-04-15T13:27:46.965555",
     "status": "completed"
    },
    "tags": []
   },
   "outputs": [
    {
     "name": "stdout",
     "output_type": "stream",
     "text": [
      "Score For Train Data : 1.0\n",
      "Score For Test Data : 0.9886090646028449\n",
      "The mean absolute error: 3.2866666666666666\n",
      "The mean squared error: 18.913333333333334\n",
      "The root mean squared error: 4.348946232518095\n",
      "\n",
      "\n"
     ]
    },
    {
     "data": {
      "image/png": "[encoded data removed]",
      "text/plain": [
       "<Figure size 432x288 with 1 Axes>"
      ]
     },
     "metadata": {},
     "output_type": "display_data"
    }
   ],
   "source": [
    "# Regression Score of the model\n",
    "print('Score For Train Data : {}'.format(DTR.score(X_train,y_train)))\n",
    "print('Score For Test Data : {}'.format(DTR.score(X_test,y_test)))\n",
    "\n",
    "print('The mean absolute error:', metrics.mean_absolute_error(y_test, pred2))\n",
    "print('The mean squared error:', metrics.mean_squared_error(y_test, pred2))\n",
    "print('The root mean squared error:', np.sqrt(metrics.mean_squared_error(y_test, pred2)))\n",
    "print('\\n')\n",
    "\n",
    "# Plot showacasing the how well model fitted on testing data\n",
    "sns.scatterplot(x=y_test, y=pred2);\n",
    "plt.xlabel('y_test')\n",
    "plt.ylabel('predictions')\n",
    "plt.title('Actual test data vs Model predictions ')\n",
    "plt.show()"
   ]
  },
  {
   "cell_type": "markdown",
   "id": "48ef846f",
   "metadata": {
    "papermill": {
     "duration": 0.019196,
     "end_time": "2023-04-15T13:27:47.204968",
     "exception": false,
     "start_time": "2023-04-15T13:27:47.185772",
     "status": "completed"
    },
    "tags": []
   },
   "source": [
    "---"
   ]
  },
  {
   "cell_type": "markdown",
   "id": "6691b13b",
   "metadata": {
    "papermill": {
     "duration": 0.018654,
     "end_time": "2023-04-15T13:27:47.242160",
     "exception": false,
     "start_time": "2023-04-15T13:27:47.223506",
     "status": "completed"
    },
    "tags": []
   },
   "source": [
    "# <p style=\"background:navy;color:white;border :black solid; font-family:Comic Sans MS; font-size:170%;text-align:center;  border-radius: 20px 40px;\">4. Random Forest Regression Model</p>"
   ]
  },
  {
   "cell_type": "code",
   "execution_count": 23,
   "id": "e7b92bfb",
   "metadata": {
    "execution": {
     "iopub.execute_input": "2023-04-15T13:27:47.280966Z",
     "iopub.status.busy": "2023-04-15T13:27:47.280593Z",
     "iopub.status.idle": "2023-04-15T13:27:47.517561Z",
     "shell.execute_reply": "2023-04-15T13:27:47.516317Z"
    },
    "papermill": {
     "duration": 0.259233,
     "end_time": "2023-04-15T13:27:47.520065",
     "exception": false,
     "start_time": "2023-04-15T13:27:47.260832",
     "status": "completed"
    },
    "tags": []
   },
   "outputs": [],
   "source": [
    "# create regressor object\n",
    "RFreg = RandomForestRegressor(n_estimators = 100)\n",
    "\n",
    "# fit the regressor with x and y data\n",
    "RFreg.fit(X_train,y_train) \n",
    "# predict the values for test data\n",
    "pred3 = RFreg.predict(X_test)"
   ]
  },
  {
   "cell_type": "markdown",
   "id": "7db216f4",
   "metadata": {
    "papermill": {
     "duration": 0.018211,
     "end_time": "2023-04-15T13:27:47.557682",
     "exception": false,
     "start_time": "2023-04-15T13:27:47.539471",
     "status": "completed"
    },
    "tags": []
   },
   "source": [
    "### <span style=\"font-family:Comic Sans MS; color:blue\">Model Evaluation</span> "
   ]
  },
  {
   "cell_type": "code",
   "execution_count": 24,
   "id": "e79811fc",
   "metadata": {
    "execution": {
     "iopub.execute_input": "2023-04-15T13:27:47.596754Z",
     "iopub.status.busy": "2023-04-15T13:27:47.596386Z",
     "iopub.status.idle": "2023-04-15T13:27:47.801895Z",
     "shell.execute_reply": "2023-04-15T13:27:47.801223Z"
    },
    "papermill": {
     "duration": 0.227713,
     "end_time": "2023-04-15T13:27:47.804067",
     "exception": false,
     "start_time": "2023-04-15T13:27:47.576354",
     "status": "completed"
    },
    "tags": []
   },
   "outputs": [
    {
     "name": "stdout",
     "output_type": "stream",
     "text": [
      "Score For Train Data : 0.9994500245023901\n",
      "Score For Test Data : 0.9973764340979882\n",
      "The mean absolute error: 1.4794333333333338\n",
      "The mean squared error: 4.356128333333337\n",
      "The root mean squared error: 2.087133999850833\n",
      "\n",
      "\n"
     ]
    },
    {
     "data": {
      "image/png": "[encoded data removed]",
      "text/plain": [
       "<Figure size 432x288 with 1 Axes>"
      ]
     },
     "metadata": {},
     "output_type": "display_data"
    }
   ],
   "source": [
    "# Regression Score of the model\n",
    "print('Score For Train Data : {}'.format(RFreg.score(X_train,y_train)))\n",
    "print('Score For Test Data : {}'.format(RFreg.score(X_test,y_test)))\n",
    "\n",
    "print('The mean absolute error:', metrics.mean_absolute_error(y_test, pred3))\n",
    "print('The mean squared error:', metrics.mean_squared_error(y_test, pred3))\n",
    "print('The root mean squared error:', np.sqrt(metrics.mean_squared_error(y_test, pred3)))\n",
    "print('\\n')\n",
    "\n",
    "# Plot showacasing the how well model fitted on testing data\n",
    "sns.scatterplot(x=y_test, y=pred3);\n",
    "plt.xlabel('y_test')\n",
    "plt.ylabel('predictions')\n",
    "plt.title('Actual test data vs Model predictions ')\n",
    "plt.show()"
   ]
  },
  {
   "cell_type": "markdown",
   "id": "a08389cb",
   "metadata": {
    "papermill": {
     "duration": 0.018131,
     "end_time": "2023-04-15T13:27:47.841619",
     "exception": false,
     "start_time": "2023-04-15T13:27:47.823488",
     "status": "completed"
    },
    "tags": []
   },
   "source": [
    "---"
   ]
  },
  {
   "cell_type": "markdown",
   "id": "3330cd4a",
   "metadata": {
    "papermill": {
     "duration": 0.018163,
     "end_time": "2023-04-15T13:27:47.877983",
     "exception": false,
     "start_time": "2023-04-15T13:27:47.859820",
     "status": "completed"
    },
    "tags": []
   },
   "source": [
    "# <p style=\"background:navy;color:white;border :black solid; font-family:Comic Sans MS; font-size:170%;text-align:center;  border-radius: 20px 40px;\">5. KNN Regression Model</p>"
   ]
  },
  {
   "cell_type": "code",
   "execution_count": 25,
   "id": "3affa829",
   "metadata": {
    "execution": {
     "iopub.execute_input": "2023-04-15T13:27:47.918782Z",
     "iopub.status.busy": "2023-04-15T13:27:47.917833Z",
     "iopub.status.idle": "2023-04-15T13:27:47.929352Z",
     "shell.execute_reply": "2023-04-15T13:27:47.928112Z"
    },
    "papermill": {
     "duration": 0.034533,
     "end_time": "2023-04-15T13:27:47.931934",
     "exception": false,
     "start_time": "2023-04-15T13:27:47.897401",
     "status": "completed"
    },
    "tags": []
   },
   "outputs": [],
   "source": [
    "# create KKNeighborsRegressor object with initial value of n =2\n",
    "KNneigh = KNeighborsRegressor(n_neighbors=2)\n",
    "\n",
    "# fit the regressor with x and y data\n",
    "KNneigh.fit(X_train,y_train)\n",
    "# predict the values for test data\n",
    "pred4 = KNneigh.predict(X_test)"
   ]
  },
  {
   "cell_type": "markdown",
   "id": "e383d1f1",
   "metadata": {
    "papermill": {
     "duration": 0.018101,
     "end_time": "2023-04-15T13:27:47.968528",
     "exception": false,
     "start_time": "2023-04-15T13:27:47.950427",
     "status": "completed"
    },
    "tags": []
   },
   "source": [
    "### <span style=\"font-family:Comic Sans MS; color:blue\">Model Evaluation</span> "
   ]
  },
  {
   "cell_type": "code",
   "execution_count": 26,
   "id": "3c91687f",
   "metadata": {
    "execution": {
     "iopub.execute_input": "2023-04-15T13:27:48.006646Z",
     "iopub.status.busy": "2023-04-15T13:27:48.006321Z",
     "iopub.status.idle": "2023-04-15T13:27:48.187908Z",
     "shell.execute_reply": "2023-04-15T13:27:48.186749Z"
    },
    "papermill": {
     "duration": 0.203519,
     "end_time": "2023-04-15T13:27:48.190284",
     "exception": false,
     "start_time": "2023-04-15T13:27:47.986765",
     "status": "completed"
    },
    "tags": []
   },
   "outputs": [
    {
     "name": "stdout",
     "output_type": "stream",
     "text": [
      "Score For Train Data : 0.9989837973422446\n",
      "Score For Test Data : 0.9979121302761648\n",
      "The mean absolute error: 1.4\n",
      "The mean squared error: 3.466666666666667\n",
      "The root mean squared error: 1.8618986725025255\n",
      "\n",
      "\n"
     ]
    },
    {
     "data": {
      "image/png": "[encoded data removed]",
      "text/plain": [
       "<Figure size 432x288 with 1 Axes>"
      ]
     },
     "metadata": {},
     "output_type": "display_data"
    }
   ],
   "source": [
    "# Regression Score of the model\n",
    "print('Score For Train Data : {}'.format(KNneigh.score(X_train,y_train)))\n",
    "print('Score For Test Data : {}'.format(KNneigh.score(X_test,y_test)))\n",
    "\n",
    "print('The mean absolute error:', metrics.mean_absolute_error(y_test, pred4))\n",
    "print('The mean squared error:', metrics.mean_squared_error(y_test, pred4))\n",
    "print('The root mean squared error:', np.sqrt(metrics.mean_squared_error(y_test, pred4)))\n",
    "print('\\n')\n",
    "\n",
    "# Plot showacasing the how well model fitted on testing data\n",
    "sns.scatterplot(x=y_test, y=pred4);\n",
    "plt.xlabel('y_test')\n",
    "plt.ylabel('predictions')\n",
    "plt.title('Actual test data vs Model predictions ')\n",
    "plt.show()"
   ]
  },
  {
   "cell_type": "markdown",
   "id": "0e0461dc",
   "metadata": {
    "papermill": {
     "duration": 0.019247,
     "end_time": "2023-04-15T13:27:48.229038",
     "exception": false,
     "start_time": "2023-04-15T13:27:48.209791",
     "status": "completed"
    },
    "tags": []
   },
   "source": [
    "---"
   ]
  },
  {
   "cell_type": "markdown",
   "id": "15475276",
   "metadata": {
    "papermill": {
     "duration": 0.019211,
     "end_time": "2023-04-15T13:27:48.267811",
     "exception": false,
     "start_time": "2023-04-15T13:27:48.248600",
     "status": "completed"
    },
    "tags": []
   },
   "source": [
    "# <p style=\"background:navy;color:white;border :black solid; font-family:Comic Sans MS; font-size:170%;text-align:center;  border-radius: 20px 40px;\">6. XGBoost Regression Model</p>"
   ]
  },
  {
   "cell_type": "code",
   "execution_count": 27,
   "id": "e53064b7",
   "metadata": {
    "execution": {
     "iopub.execute_input": "2023-04-15T13:27:48.308755Z",
     "iopub.status.busy": "2023-04-15T13:27:48.308332Z",
     "iopub.status.idle": "2023-04-15T13:27:48.348092Z",
     "shell.execute_reply": "2023-04-15T13:27:48.347102Z"
    },
    "papermill": {
     "duration": 0.062412,
     "end_time": "2023-04-15T13:27:48.349888",
     "exception": false,
     "start_time": "2023-04-15T13:27:48.287476",
     "status": "completed"
    },
    "tags": []
   },
   "outputs": [
    {
     "name": "stdout",
     "output_type": "stream",
     "text": [
      "[13:27:48] WARNING: ../src/objective/regression_obj.cu:203: reg:linear is now deprecated in favor of reg:squarederror.\n"
     ]
    }
   ],
   "source": [
    "# create xgboost object with initial value of n estimators =10\n",
    "xgb_reg = xg.XGBRegressor(objective ='reg:linear', n_estimators = 10)\n",
    "\n",
    "# fit the regressor with x and y data\n",
    "xgb_reg.fit(X_train,y_train)\n",
    "# predict the values for test data\n",
    "pred5 = xgb_reg.predict(X_test)"
   ]
  },
  {
   "cell_type": "markdown",
   "id": "12235a7b",
   "metadata": {
    "papermill": {
     "duration": 0.0191,
     "end_time": "2023-04-15T13:27:48.388639",
     "exception": false,
     "start_time": "2023-04-15T13:27:48.369539",
     "status": "completed"
    },
    "tags": []
   },
   "source": [
    "### <span style=\"font-family:Comic Sans MS; color:blue\">Model Evaluation</span> "
   ]
  },
  {
   "cell_type": "code",
   "execution_count": 28,
   "id": "3d4b98b7",
   "metadata": {
    "execution": {
     "iopub.execute_input": "2023-04-15T13:27:48.429975Z",
     "iopub.status.busy": "2023-04-15T13:27:48.429022Z",
     "iopub.status.idle": "2023-04-15T13:27:48.634307Z",
     "shell.execute_reply": "2023-04-15T13:27:48.632834Z"
    },
    "papermill": {
     "duration": 0.228658,
     "end_time": "2023-04-15T13:27:48.636845",
     "exception": false,
     "start_time": "2023-04-15T13:27:48.408187",
     "status": "completed"
    },
    "tags": []
   },
   "outputs": [
    {
     "name": "stdout",
     "output_type": "stream",
     "text": [
      "Score For Train Data : 0.9745935566044377\n",
      "Score For Test Data : 0.9699977285964133\n",
      "The mean absolute error: 6.017702433268229\n",
      "The mean squared error: 49.81530840346008\n",
      "The root mean squared error: 7.05799606145116\n",
      "\n",
      "\n"
     ]
    },
    {
     "data": {
      "image/png": "[encoded data removed]",
      "text/plain": [
       "<Figure size 432x288 with 1 Axes>"
      ]
     },
     "metadata": {},
     "output_type": "display_data"
    }
   ],
   "source": [
    "# Regression Score of the model\n",
    "print('Score For Train Data : {}'.format(xgb_reg.score(X_train,y_train)))\n",
    "print('Score For Test Data : {}'.format(xgb_reg.score(X_test,y_test)))\n",
    "\n",
    "print('The mean absolute error:', metrics.mean_absolute_error(y_test, pred5))\n",
    "print('The mean squared error:', metrics.mean_squared_error(y_test, pred5))\n",
    "print('The root mean squared error:', np.sqrt(metrics.mean_squared_error(y_test, pred5)))\n",
    "print('\\n')\n",
    "\n",
    "# Plot showacasing the how well model fitted on testing data\n",
    "sns.scatterplot(x=y_test, y=pred5);\n",
    "plt.xlabel('y_test')\n",
    "plt.ylabel('predictions')\n",
    "plt.title('Actual test data vs Model predictions ')\n",
    "plt.show()"
   ]
  },
  {
   "cell_type": "markdown",
   "id": "2fb9e23e",
   "metadata": {
    "papermill": {
     "duration": 0.021522,
     "end_time": "2023-04-15T13:27:48.679222",
     "exception": false,
     "start_time": "2023-04-15T13:27:48.657700",
     "status": "completed"
    },
    "tags": []
   },
   "source": [
    "---"
   ]
  },
  {
   "cell_type": "markdown",
   "id": "446433a1",
   "metadata": {
    "papermill": {
     "duration": 0.019751,
     "end_time": "2023-04-15T13:27:48.720915",
     "exception": false,
     "start_time": "2023-04-15T13:27:48.701164",
     "status": "completed"
    },
    "tags": []
   },
   "source": [
    "# <p style=\"background:navy;color:white;border :black solid; font-family:Comic Sans MS; font-size:170%;text-align:center;  border-radius: 20px 40px;\">Model Performance Comparison</p>\n",
    "\n",
    "### <span style=\"font-family:Comic Sans MS; color:black\">Though we have comparison chart from Lazypredict yet we are going to compare the model's performances on the data that we did manually</span>"
   ]
  },
  {
   "cell_type": "markdown",
   "id": "c5fa716c",
   "metadata": {
    "papermill": {
     "duration": 0.019928,
     "end_time": "2023-04-15T13:27:48.760724",
     "exception": false,
     "start_time": "2023-04-15T13:27:48.740796",
     "status": "completed"
    },
    "tags": []
   },
   "source": [
    "> **For predictions of total marks**\n",
    "\n",
    "| Model     | Score For Test Data    | RMSE value\n",
    "| ----------- | ----------- | --------------|\n",
    "| LassoLarsCV    |    1.0000 | 0.0000 |\n",
    "| Linear Regression    |    1.0000 | 0.0000 |\n",
    "| KNN    | 0.9979 | 1.8618 |\n",
    "| Random Forest Regression   | 0.9974 |  2.0589 |\n",
    "| Decision Tree Regression    | 0.9886 | 4.3420 |\n",
    "| XGBoost Regression   | 0.9699 | 7.0579 |"
   ]
  },
  {
   "cell_type": "markdown",
   "id": "403075a5",
   "metadata": {
    "papermill": {
     "duration": 0.019822,
     "end_time": "2023-04-15T13:27:48.800543",
     "exception": false,
     "start_time": "2023-04-15T13:27:48.780721",
     "status": "completed"
    },
    "tags": []
   },
   "source": [
    "---"
   ]
  },
  {
   "cell_type": "markdown",
   "id": "7fcb7df0",
   "metadata": {
    "papermill": {
     "duration": 0.019891,
     "end_time": "2023-04-15T13:27:48.840730",
     "exception": false,
     "start_time": "2023-04-15T13:27:48.820839",
     "status": "completed"
    },
    "tags": []
   },
   "source": [
    "### <span style=\"font-family:Comic Sans MS; color:red\">Thank you, waiting for your valuable feedback :)</span>"
   ]
  }
 ],
 "metadata": {
  "kernelspec": {
   "display_name": "Python 3 (ipykernel)",
   "language": "python",
   "name": "python3"
  },
  "language_info": {
   "codemirror_mode": {
    "name": "ipython",
    "version": 3
   },
   "file_extension": ".py",
   "mimetype": "text/x-python",
   "name": "python",
   "nbconvert_exporter": "python",
   "pygments_lexer": "ipython3",
   "version": "3.11.12"
  },
  "papermill": {
   "default_parameters": {},
   "duration": 37.652566,
   "end_time": "2023-04-15T13:27:49.781826",
   "environment_variables": {},
   "exception": null,
   "input_path": "__notebook__.ipynb",
   "output_path": "__notebook__.ipynb",
   "parameters": {},
   "start_time": "2023-04-15T13:27:12.129260",
   "version": "2.3.4"
  }
 },
 "nbformat": 4,
 "nbformat_minor": 5
}
