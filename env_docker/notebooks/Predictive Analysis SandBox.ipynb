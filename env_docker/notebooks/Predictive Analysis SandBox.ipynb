{
 "cells": [
  {
   "cell_type": "markdown",
   "id": "a5d5a101-36bf-436c-bc73-740feb2fa275",
   "metadata": {},
   "source": [
    "# Predictive Analysis"
   ]
  },
  {
   "cell_type": "code",
   "execution_count": 29,
   "id": "81b7ae72-6b06-47d8-aabd-a8afd36c0783",
   "metadata": {},
   "outputs": [],
   "source": [
    "import sys\n",
    "import os\n",
    "import warnings\n",
    "warnings.filterwarnings('ignore')"
   ]
  },
  {
   "cell_type": "code",
   "execution_count": 2,
   "id": "73a04a1a-ca74-4c36-8077-e370ad5d0522",
   "metadata": {},
   "outputs": [],
   "source": [
    "import IPython\n",
    "# from IPython.display import Image\n",
    "# from IPython.core.display import HTML\n",
    "from IPython.display import clear_output\n",
    "from IPython.display import display\n",
    "from tqdm.notebook import tqdm # FOR FANCY GREEN BAR"
   ]
  },
  {
   "cell_type": "code",
   "execution_count": 3,
   "id": "f90446fa-76f9-450c-86f7-0fcadda7810f",
   "metadata": {},
   "outputs": [],
   "source": [
    "import numpy as np\n",
    "import pandas as pd\n",
    "import polars as pr # new pkg similar to pandas but faster\n",
    "import glob"
   ]
  },
  {
   "cell_type": "code",
   "execution_count": 4,
   "id": "d2286f0b-b98a-4177-99f3-434c856e02b1",
   "metadata": {},
   "outputs": [],
   "source": [
    "import matplotlib.pyplot as plt\n",
    "import matplotlib as mpl\n",
    "from matplotlib import cm\n",
    "import seaborn as sns\n",
    "import plotly\n",
    "\n",
    "# plt.rcParams['figure.figsize'] = [12, 8]\n",
    "plt.rcParams['figure.dpi'] = 100 # e.g. default 100 but 300 would be a really fine plot, but slower\n",
    "plt.style.use('fivethirtyeight')"
   ]
  },
  {
   "cell_type": "code",
   "execution_count": 5,
   "id": "da403d36-614d-4695-b695-71b5c9a427d3",
   "metadata": {},
   "outputs": [],
   "source": [
    "import re\n",
    "import random\n",
    "import time\n",
    "from datetime import datetime as dt\n",
    "import scipy\n",
    "import statsmodels.api as sm"
   ]
  },
  {
   "cell_type": "code",
   "execution_count": 19,
   "id": "e095b524-25f6-4ed7-8578-6c62acf2571a",
   "metadata": {},
   "outputs": [],
   "source": [
    "import sklearn\n",
    "from sklearn import datasets\n",
    "from sklearn.utils import shuffle\n",
    "from sklearn.preprocessing import OneHotEncoder, LabelEncoder, StandardScaler\n",
    "\n",
    "from sklearn.model_selection import train_test_split\n",
    "from sklearn.linear_model import LogisticRegression\n",
    "from sklearn.neighbors import KNeighborsClassifier\n",
    "from sklearn.svm import SVC\n",
    "from sklearn.tree import DecisionTreeClassifier\n",
    "from sklearn.ensemble import RandomForestClassifier\n",
    "from xgboost import XGBClassifier\n",
    "from xgboost import XGBRegressor\n",
    "\n",
    "from sklearn.metrics import confusion_matrix, accuracy_score, precision_score, recall_score, jaccard_score, f1_score, r2_score, roc_curve, auc, log_loss, classification_report\n",
    "\n",
    "classifiers = {\n",
    "    \"LogisticRegression\" : LogisticRegression(),\n",
    "    \"KNeighbors\" : KNeighborsClassifier(),\n",
    "    \"SVC\" : SVC(),\n",
    "    \"DecisionTree\" : DecisionTreeClassifier(),\n",
    "    \"RandomForest\" : RandomForestClassifier(),\n",
    "    \"XGBoost\" : XGBClassifier()\n",
    "}"
   ]
  },
  {
   "cell_type": "code",
   "execution_count": 7,
   "id": "ade888dc-676b-423e-8213-b3b90bc758c4",
   "metadata": {},
   "outputs": [],
   "source": [
    "from lazypredict.Supervised import LazyClassifier, LazyRegressor"
   ]
  },
  {
   "cell_type": "markdown",
   "id": "2141ad9f-6348-4470-bb8b-febef6e6c933",
   "metadata": {},
   "source": [
    "# Data"
   ]
  },
  {
   "cell_type": "code",
   "execution_count": 8,
   "id": "a3fa2936-5a44-4edc-8731-6103906f9df2",
   "metadata": {},
   "outputs": [],
   "source": [
    "random.seed(42)"
   ]
  },
  {
   "cell_type": "code",
   "execution_count": 9,
   "id": "754c5f85-a571-428a-8702-79d17814dafa",
   "metadata": {},
   "outputs": [],
   "source": [
    "# True labels\n",
    "y_true = [0, 1, 1, 0, 1, 0, 0, 1, 1, 0, 0, 1, 1, 0, 1, 0, 0, 1, 1, 0, 0, 1, 1, 0, 1, 0, 0, 1, 1, 0, 1, 1, 1, 0, 1, 0, 0, 1, 1, 0, 0, 1, 1, 0, 1, 0, 0, 1, 1, 0]  \n",
    "\n",
    "# Predicted labels\n",
    "y_pred= [1, 0, 1, 0, 1, 0, 0, 1, 0, 1, 0, 1, 1, 0, 1, 0, 0, 1, 1, 0, 0, 1, 0, 1, 1, 0, 0, 1, 1, 1, 0, 1, 1, 0, 1, 0, 0, 1, 1, 0, 0, 1, 0, 1, 1, 0, 1, 0, 0, 1] \n"
   ]
  },
  {
   "cell_type": "code",
   "execution_count": 10,
   "id": "19a3e1ae-23a1-4ee1-8c1c-58a350482a34",
   "metadata": {},
   "outputs": [
    {
     "name": "stdout",
     "output_type": "stream",
     "text": [
      " Accuracy \t0.72\n",
      " Precision \t 0.7307692307692307\n",
      " Recall \t 0.7307692307692307\n",
      " F1 \t 0.7307692307692307\n",
      " ROC \t 0.7195512820512819\n",
      " Jaccurred \t 0.5757575757575758\n"
     ]
    }
   ],
   "source": [
    "# Confusion Matrix\n",
    "cm = confusion_matrix(y_true, y_pred)\n",
    "# Accuracy\n",
    "accuracy = accuracy_score(y_true, y_pred)\n",
    "# Precision\n",
    "precision = precision_score(y_true, y_pred)\n",
    "# Recall\n",
    "recall = recall_score(y_true, y_pred)\n",
    "# F1-Score\n",
    "f1 = f1_score(y_true, y_pred)\n",
    "# ROC Curve and AUC\n",
    "fpr, tpr, thresholds = roc_curve(y_true, y_pred)\n",
    "roc_auc = auc(fpr, tpr)\n",
    "\n",
    "# Jaccurred\n",
    "jc = jaccard_score(y_true, y_pred)\n",
    "\n",
    "\n",
    "# print(Confusion Matrix)\n",
    "# print(cm)\n",
    "print(f\" Accuracy \\t{accuracy}\")\n",
    "print(f\" Precision \\t {precision}\")\n",
    "print(f\" Recall \\t {recall}\")\n",
    "print(f\" F1 \\t {f1}\")\n",
    "print(f\" ROC \\t {roc_auc}\")\n",
    "print(f\" Jaccurred \\t {jc}\")\n",
    "# print(f\"{classification_report(y_test, y_pred)}\")"
   ]
  },
  {
   "cell_type": "markdown",
   "id": "7ac14f92-fcf2-4491-b561-1f37721710b2",
   "metadata": {},
   "source": [
    "### Multilabeled"
   ]
  },
  {
   "cell_type": "code",
   "execution_count": 11,
   "id": "492bd903-8db9-439c-9f87-545513fa9100",
   "metadata": {},
   "outputs": [],
   "source": [
    "y_true = ['a','b','c','d']\n",
    "y_pred = ['c','a','c','d']"
   ]
  },
  {
   "cell_type": "code",
   "execution_count": 12,
   "id": "d74ba5b8-d546-4ea5-96fe-95212412e554",
   "metadata": {},
   "outputs": [
    {
     "name": "stdout",
     "output_type": "stream",
     "text": [
      " Accuracy \t0.5\n",
      " Precision \t 0.375\n",
      " Recall \t 0.5\n",
      " F1 \t 0.41666666666666663\n",
      " Jaccurred \t 0.375\n"
     ]
    }
   ],
   "source": [
    "# Accuracy\n",
    "accuracy = accuracy_score(y_true, y_pred)\n",
    "# Precision\n",
    "precision = precision_score(y_true, y_pred, average=\"weighted\")\n",
    "# Recal\n",
    "recall = recall_score(y_true, y_pred, average=\"weighted\")\n",
    "# F1-Score\n",
    "f1 = f1_score(y_true, y_pred, average=\"weighted\")\n",
    "# Jaccurred\n",
    "jc = jaccard_score(y_true, y_pred, average=\"weighted\")\n",
    "\n",
    "# ROC Curve and AUC\n",
    "# fpr, tpr, thresholds = roc_curve(y_true, y_pred)\n",
    "# roc_auc = auc(fpr, tpr)\n",
    "\n",
    "\n",
    "print(f\" Accuracy \\t{accuracy}\")\n",
    "print(f\" Precision \\t {precision}\")\n",
    "print(f\" Recall \\t {recall}\")\n",
    "print(f\" F1 \\t {f1}\")\n",
    "# print(f\" ROC \\t {roc_auc}\")\n",
    "print(f\" Jaccurred \\t {jc}\")"
   ]
  },
  {
   "cell_type": "code",
   "execution_count": 13,
   "id": "393d5fcd-1a2c-44a2-97e5-f9938fec3fd6",
   "metadata": {},
   "outputs": [],
   "source": [
    "# # Plot ROC curve\n",
    "# plt.figure()\n",
    "\n",
    "# # Plot the ROC curve with a label displaying the ROC AUC score\n",
    "# plt.plot(fpr, tpr, color='darkorange', lw=2,\n",
    "#          label='ROC curve (area = %0.2f)' % roc_auc)\n",
    "\n",
    "# # Plot a dashed diagonal line for reference\n",
    "# plt.plot([0, 1], [0, 1], color='navy', lw=2, linestyle='--')\n",
    "\n",
    "# # Set the x and y-axis limits\n",
    "# plt.xlim([0.0, 1.0])\n",
    "# plt.ylim([0.0, 1.05])\n",
    "\n",
    "# # Label the x and y-axes\n",
    "# plt.xlabel('False Positive Rate')\n",
    "# plt.ylabel('True Positive Rate')\n",
    "\n",
    "# # Set the title of the plot\n",
    "# plt.title('Receiver Operating Characteristic')\n",
    "\n",
    "# # Add a legend to the plot\n",
    "# plt.legend(loc='lower right')\n",
    "\n",
    "# # Display the ROC curve plot\n",
    "# plt.show()"
   ]
  },
  {
   "cell_type": "markdown",
   "id": "b1b49714-6458-46e8-ba46-49ae16e9a2ac",
   "metadata": {},
   "source": [
    "# Reference\n",
    "\n",
    "- https://scikit-learn.org/stable/api/sklearn.metrics.html"
   ]
  }
 ],
 "metadata": {
  "kernelspec": {
   "display_name": "Python 3 (ipykernel)",
   "language": "python",
   "name": "python3"
  },
  "language_info": {
   "codemirror_mode": {
    "name": "ipython",
    "version": 3
   },
   "file_extension": ".py",
   "mimetype": "text/x-python",
   "name": "python",
   "nbconvert_exporter": "python",
   "pygments_lexer": "ipython3",
   "version": "3.11.13"
  }
 },
 "nbformat": 4,
 "nbformat_minor": 5
}
